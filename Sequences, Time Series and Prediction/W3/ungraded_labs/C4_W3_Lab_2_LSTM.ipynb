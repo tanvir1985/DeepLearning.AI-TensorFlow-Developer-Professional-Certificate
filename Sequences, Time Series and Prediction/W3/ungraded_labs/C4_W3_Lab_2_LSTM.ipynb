{
  "cells": [
    {
      "cell_type": "markdown",
      "metadata": {
        "id": "LwxGb-GuR-X3"
      },
      "source": [
        "<a href=\"https://colab.research.google.com/github/https-deeplearning-ai/tensorflow-1-public/blob/main/C4/W3/ungraded_labs/C4_W3_Lab_2_LSTM.ipynb\" target=\"_parent\"><img src=\"https://colab.research.google.com/assets/colab-badge.svg\" alt=\"Open In Colab\"/></a>"
      ]
    },
    {
      "cell_type": "markdown",
      "metadata": {
        "id": "sV_nvXSQGJPK"
      },
      "source": [
        "# Ungraded Lab: Using a multi-layer LSTM for forecasting\n",
        "\n",
        "In this lab, you will use the same RNN architecure in the first lab but will instead stack [LSTM](https://www.tensorflow.org/api_docs/python/tf/keras/layers/LSTM) layers instead of `SimpleRNN`."
      ]
    },
    {
      "cell_type": "markdown",
      "metadata": {
        "id": "3IMbAWETGOWD"
      },
      "source": [
        "## Imports"
      ]
    },
    {
      "cell_type": "code",
      "execution_count": 1,
      "metadata": {
        "id": "BOjujz601HcS"
      },
      "outputs": [],
      "source": [
        "import tensorflow as tf\n",
        "import numpy as np\n",
        "import matplotlib.pyplot as plt"
      ]
    },
    {
      "cell_type": "markdown",
      "metadata": {
        "id": "kD7RQQ0xGQVH"
      },
      "source": [
        "## Utilities"
      ]
    },
    {
      "cell_type": "code",
      "execution_count": 2,
      "metadata": {
        "id": "Zswl7jRtGzkk"
      },
      "outputs": [],
      "source": [
        "def plot_series(time, series, format=\"-\", start=0, end=None):\n",
        "    \"\"\"\n",
        "    Visualizes time series data\n",
        "\n",
        "    Args:\n",
        "      time (array of int) - contains the time steps\n",
        "      series (array of int) - contains the measurements for each time step\n",
        "      format - line style when plotting the graph\n",
        "      start - first time step to plot\n",
        "      end - last time step to plot\n",
        "    \"\"\"\n",
        "\n",
        "    # Setup dimensions of the graph figure\n",
        "    plt.figure(figsize=(10, 6))\n",
        "    \n",
        "    if type(series) is tuple:\n",
        "\n",
        "      for series_num in series:\n",
        "        # Plot the time series data\n",
        "        plt.plot(time[start:end], series_num[start:end], format)\n",
        "\n",
        "    else:\n",
        "      # Plot the time series data\n",
        "      plt.plot(time[start:end], series[start:end], format)\n",
        "\n",
        "    # Label the x-axis\n",
        "    plt.xlabel(\"Time\")\n",
        "\n",
        "    # Label the y-axis\n",
        "    plt.ylabel(\"Value\")\n",
        "\n",
        "    # Overlay a grid on the graph\n",
        "    plt.grid(True)\n",
        "\n",
        "    # Draw the graph on screen\n",
        "    plt.show()\n",
        "\n",
        "def trend(time, slope=0):\n",
        "    \"\"\"\n",
        "    Generates synthetic data that follows a straight line given a slope value.\n",
        "\n",
        "    Args:\n",
        "      time (array of int) - contains the time steps\n",
        "      slope (float) - determines the direction and steepness of the line\n",
        "\n",
        "    Returns:\n",
        "      series (array of float) - measurements that follow a straight line\n",
        "    \"\"\"\n",
        "\n",
        "    # Compute the linear series given the slope\n",
        "    series = slope * time\n",
        "\n",
        "    return series\n",
        "\n",
        "def seasonal_pattern(season_time):\n",
        "    \"\"\"\n",
        "    Just an arbitrary pattern, you can change it if you wish\n",
        "    \n",
        "    Args:\n",
        "      season_time (array of float) - contains the measurements per time step\n",
        "\n",
        "    Returns:\n",
        "      data_pattern (array of float) -  contains revised measurement values according \n",
        "                                  to the defined pattern\n",
        "    \"\"\"\n",
        "\n",
        "    # Generate the values using an arbitrary pattern\n",
        "    data_pattern = np.where(season_time < 0.4,\n",
        "                    np.cos(season_time * 2 * np.pi),\n",
        "                    1 / np.exp(3 * season_time))\n",
        "    \n",
        "    return data_pattern\n",
        "\n",
        "def seasonality(time, period, amplitude=1, phase=0):\n",
        "    \"\"\"\n",
        "    Repeats the same pattern at each period\n",
        "\n",
        "    Args:\n",
        "      time (array of int) - contains the time steps\n",
        "      period (int) - number of time steps before the pattern repeats\n",
        "      amplitude (int) - peak measured value in a period\n",
        "      phase (int) - number of time steps to shift the measured values\n",
        "\n",
        "    Returns:\n",
        "      data_pattern (array of float) - seasonal data scaled by the defined amplitude\n",
        "    \"\"\"\n",
        "    \n",
        "    # Define the measured values per period\n",
        "    season_time = ((time + phase) % period) / period\n",
        "\n",
        "    # Generates the seasonal data scaled by the defined amplitude\n",
        "    data_pattern = amplitude * seasonal_pattern(season_time)\n",
        "\n",
        "    return data_pattern\n",
        "\n",
        "def noise(time, noise_level=1, seed=None):\n",
        "    \"\"\"Generates a normally distributed noisy signal\n",
        "\n",
        "    Args:\n",
        "      time (array of int) - contains the time steps\n",
        "      noise_level (float) - scaling factor for the generated signal\n",
        "      seed (int) - number generator seed for repeatability\n",
        "\n",
        "    Returns:\n",
        "      noise (array of float) - the noisy signal\n",
        "    \"\"\"\n",
        "\n",
        "    # Initialize the random number generator\n",
        "    rnd = np.random.RandomState(seed)\n",
        "\n",
        "    # Generate a random number for each time step and scale by the noise level\n",
        "    noise = rnd.randn(len(time)) * noise_level\n",
        "    \n",
        "    return noise"
      ]
    },
    {
      "cell_type": "markdown",
      "metadata": {
        "id": "yxNyeFWjGSdj"
      },
      "source": [
        "## Generate the Synthetic Data"
      ]
    },
    {
      "cell_type": "code",
      "execution_count": 3,
      "metadata": {
        "id": "KYEUfDbdpHPm",
        "colab": {
          "base_uri": "https://localhost:8080/",
          "height": 388
        },
        "outputId": "15f48c76-403b-4a91-87cb-2f0e297bac0f"
      },
      "outputs": [
        {
          "output_type": "display_data",
          "data": {
            "text/plain": [
              "<Figure size 720x432 with 1 Axes>"
            ],
            "image/png": "[encoded data removed]"
          },
          "metadata": {
            "needs_background": "light"
          }
        }
      ],
      "source": [
        "# Parameters\n",
        "time = np.arange(4 * 365 + 1, dtype=\"float32\")\n",
        "baseline = 10\n",
        "amplitude = 40\n",
        "slope = 0.05\n",
        "noise_level = 5\n",
        "\n",
        "# Create the series\n",
        "series = baseline + trend(time, slope) + seasonality(time, period=365, amplitude=amplitude)\n",
        "\n",
        "# Update with noise\n",
        "series += noise(time, noise_level, seed=42)\n",
        "\n",
        "# Plot the results\n",
        "plot_series(time, series)"
      ]
    },
    {
      "cell_type": "markdown",
      "metadata": {
        "id": "MYKCvv-eGWRc"
      },
      "source": [
        "## Split the Dataset"
      ]
    },
    {
      "cell_type": "code",
      "execution_count": 4,
      "metadata": {
        "id": "hpp0slenpKVD"
      },
      "outputs": [],
      "source": [
        "# Define the split time\n",
        "split_time = 1000\n",
        "\n",
        "# Get the train set \n",
        "time_train = time[:split_time]\n",
        "x_train = series[:split_time]\n",
        "\n",
        "# Get the validation set\n",
        "time_valid = time[split_time:]\n",
        "x_valid = series[split_time:]"
      ]
    },
    {
      "cell_type": "markdown",
      "metadata": {
        "id": "cktHz9aOGYtV"
      },
      "source": [
        "## Prepare Features and Labels"
      ]
    },
    {
      "cell_type": "code",
      "execution_count": 5,
      "metadata": {
        "id": "G_j_2_Mqwn7-"
      },
      "outputs": [],
      "source": [
        "# Parameters\n",
        "window_size = 20\n",
        "batch_size = 32\n",
        "shuffle_buffer_size = 1000"
      ]
    },
    {
      "cell_type": "code",
      "execution_count": 6,
      "metadata": {
        "id": "4sTTIOCbyShY"
      },
      "outputs": [],
      "source": [
        "def windowed_dataset(series, window_size, batch_size, shuffle_buffer):\n",
        "    \"\"\"Generates dataset windows\n",
        "\n",
        "    Args:\n",
        "      series (array of float) - contains the values of the time series\n",
        "      window_size (int) - the number of time steps to include in the feature\n",
        "      batch_size (int) - the batch size\n",
        "      shuffle_buffer(int) - buffer size to use for the shuffle method\n",
        "\n",
        "    Returns:\n",
        "      dataset (TF Dataset) - TF Dataset containing time windows\n",
        "    \"\"\"\n",
        "  \n",
        "    # Generate a TF Dataset from the series values\n",
        "    dataset = tf.data.Dataset.from_tensor_slices(series)\n",
        "    \n",
        "    # Window the data but only take those with the specified size\n",
        "    dataset = dataset.window(window_size + 1, shift=1, drop_remainder=True)\n",
        "    \n",
        "    # Flatten the windows by putting its elements in a single batch\n",
        "    dataset = dataset.flat_map(lambda window: window.batch(window_size + 1))\n",
        "\n",
        "    # Create tuples with features and labels \n",
        "    dataset = dataset.map(lambda window: (window[:-1], window[-1]))\n",
        "\n",
        "    # Shuffle the windows\n",
        "    dataset = dataset.shuffle(shuffle_buffer)\n",
        "    \n",
        "    # Create batches of windows\n",
        "    dataset = dataset.batch(batch_size).prefetch(1)\n",
        "    \n",
        "    return dataset"
      ]
    },
    {
      "cell_type": "code",
      "execution_count": 7,
      "metadata": {
        "id": "vGj5-InSwtQQ"
      },
      "outputs": [],
      "source": [
        "# Generate the dataset windows\n",
        "dataset = windowed_dataset(x_train, window_size, batch_size, shuffle_buffer_size)"
      ]
    },
    {
      "cell_type": "markdown",
      "metadata": {
        "id": "p9-Ke8ZaGcjd"
      },
      "source": [
        "## Build the Model\n",
        "\n",
        "As mentioned, you will swap `SimpleRNN` for `LSTM` in this lab. It is also set as bidirectional below but feel free to revise later and see what results you get. LSTMs are much more complex in their internal architecture than simpleRNNs. It implements a cell state that allows it to remember sequences better than simple implementations. This added complexity results in a bigger set of parameters to train and you'll see that when you print the model summary below."
      ]
    },
    {
      "cell_type": "code",
      "execution_count": 8,
      "metadata": {
        "id": "A1Hl39rklkLm",
        "colab": {
          "base_uri": "https://localhost:8080/"
        },
        "outputId": "c1e32fd4-279a-4db3-9510-67d9183ba801"
      },
      "outputs": [
        {
          "output_type": "stream",
          "name": "stdout",
          "text": [
            "Model: \"sequential\"\n",
            "_________________________________________________________________\n",
            " Layer (type)                Output Shape              Param #   \n",
            "=================================================================\n",
            " lambda (Lambda)             (None, 20, 1)             0         \n",
            "                                                                 \n",
            " bidirectional (Bidirectiona  (None, 20, 64)           8704      \n",
            " l)                                                              \n",
            "                                                                 \n",
            " bidirectional_1 (Bidirectio  (None, 64)               24832     \n",
            " nal)                                                            \n",
            "                                                                 \n",
            " dense (Dense)               (None, 1)                 65        \n",
            "                                                                 \n",
            " lambda_1 (Lambda)           (None, 1)                 0         \n",
            "                                                                 \n",
            "=================================================================\n",
            "Total params: 33,601\n",
            "Trainable params: 33,601\n",
            "Non-trainable params: 0\n",
            "_________________________________________________________________\n"
          ]
        }
      ],
      "source": [
        "# Build the Model\n",
        "model_tune = tf.keras.models.Sequential([\n",
        "  tf.keras.layers.Lambda(lambda x: tf.expand_dims(x, axis=-1),\n",
        "                      input_shape=[window_size]),\n",
        "    tf.keras.layers.Bidirectional(tf.keras.layers.LSTM(32, return_sequences=True)),\n",
        "  tf.keras.layers.Bidirectional(tf.keras.layers.LSTM(32)),\n",
        "  tf.keras.layers.Dense(1),\n",
        "  tf.keras.layers.Lambda(lambda x: x * 100.0)\n",
        "])\n",
        "\n",
        "# Print the model summary\n",
        "model_tune.summary()"
      ]
    },
    {
      "cell_type": "markdown",
      "metadata": {
        "id": "FHaFblbwq0GV"
      },
      "source": [
        "## Tune the Learning Rate\n",
        "\n",
        "As usual, you will pick a learning rate by running the tuning code below."
      ]
    },
    {
      "cell_type": "code",
      "execution_count": 9,
      "metadata": {
        "id": "qE7al18qw48G",
        "colab": {
          "base_uri": "https://localhost:8080/"
        },
        "outputId": "ad66ecfd-18c1-4aa3-8760-d22e7a087010"
      },
      "outputs": [
        {
          "output_type": "stream",
          "name": "stdout",
          "text": [
            "Epoch 1/100\n",
            "31/31 [==============================] - 16s 46ms/step - loss: 21.8536 - lr: 1.0000e-08\n",
            "Epoch 2/100\n",
            "31/31 [==============================] - 1s 27ms/step - loss: 19.8907 - lr: 1.1220e-08\n",
            "Epoch 3/100\n",
            "31/31 [==============================] - 1s 27ms/step - loss: 18.3045 - lr: 1.2589e-08\n",
            "Epoch 4/100\n",
            "31/31 [==============================] - 1s 27ms/step - loss: 17.2077 - lr: 1.4125e-08\n",
            "Epoch 5/100\n",
            "31/31 [==============================] - 1s 27ms/step - loss: 16.4301 - lr: 1.5849e-08\n",
            "Epoch 6/100\n",
            "31/31 [==============================] - 1s 27ms/step - loss: 15.8851 - lr: 1.7783e-08\n",
            "Epoch 7/100\n",
            "31/31 [==============================] - 1s 27ms/step - loss: 15.5014 - lr: 1.9953e-08\n",
            "Epoch 8/100\n",
            "31/31 [==============================] - 1s 28ms/step - loss: 15.2231 - lr: 2.2387e-08\n",
            "Epoch 9/100\n",
            "31/31 [==============================] - 1s 41ms/step - loss: 15.0203 - lr: 2.5119e-08\n",
            "Epoch 10/100\n",
            "31/31 [==============================] - 2s 69ms/step - loss: 14.8559 - lr: 2.8184e-08\n",
            "Epoch 11/100\n",
            "31/31 [==============================] - 2s 62ms/step - loss: 14.7136 - lr: 3.1623e-08\n",
            "Epoch 12/100\n",
            "31/31 [==============================] - 3s 72ms/step - loss: 14.5909 - lr: 3.5481e-08\n",
            "Epoch 13/100\n",
            "31/31 [==============================] - 2s 65ms/step - loss: 14.4674 - lr: 3.9811e-08\n",
            "Epoch 14/100\n",
            "31/31 [==============================] - 2s 71ms/step - loss: 14.3454 - lr: 4.4668e-08\n",
            "Epoch 15/100\n",
            "31/31 [==============================] - 2s 63ms/step - loss: 14.2171 - lr: 5.0119e-08\n",
            "Epoch 16/100\n",
            "31/31 [==============================] - 3s 71ms/step - loss: 14.0789 - lr: 5.6234e-08\n",
            "Epoch 17/100\n",
            "31/31 [==============================] - 2s 55ms/step - loss: 13.9274 - lr: 6.3096e-08\n",
            "Epoch 18/100\n",
            "31/31 [==============================] - 2s 54ms/step - loss: 13.7664 - lr: 7.0795e-08\n",
            "Epoch 19/100\n",
            "31/31 [==============================] - 1s 27ms/step - loss: 13.5854 - lr: 7.9433e-08\n",
            "Epoch 20/100\n",
            "31/31 [==============================] - 1s 28ms/step - loss: 13.3895 - lr: 8.9125e-08\n",
            "Epoch 21/100\n",
            "31/31 [==============================] - 1s 27ms/step - loss: 13.1886 - lr: 1.0000e-07\n",
            "Epoch 22/100\n",
            "31/31 [==============================] - 1s 27ms/step - loss: 12.9509 - lr: 1.1220e-07\n",
            "Epoch 23/100\n",
            "31/31 [==============================] - 1s 28ms/step - loss: 12.6944 - lr: 1.2589e-07\n",
            "Epoch 24/100\n",
            "31/31 [==============================] - 1s 27ms/step - loss: 12.4211 - lr: 1.4125e-07\n",
            "Epoch 25/100\n",
            "31/31 [==============================] - 1s 27ms/step - loss: 12.1357 - lr: 1.5849e-07\n",
            "Epoch 26/100\n",
            "31/31 [==============================] - 1s 26ms/step - loss: 11.7987 - lr: 1.7783e-07\n",
            "Epoch 27/100\n",
            "31/31 [==============================] - 1s 27ms/step - loss: 11.4545 - lr: 1.9953e-07\n",
            "Epoch 28/100\n",
            "31/31 [==============================] - 1s 28ms/step - loss: 11.0793 - lr: 2.2387e-07\n",
            "Epoch 29/100\n",
            "31/31 [==============================] - 1s 27ms/step - loss: 10.6774 - lr: 2.5119e-07\n",
            "Epoch 30/100\n",
            "31/31 [==============================] - 1s 27ms/step - loss: 10.2551 - lr: 2.8184e-07\n",
            "Epoch 31/100\n",
            "31/31 [==============================] - 1s 28ms/step - loss: 9.7882 - lr: 3.1623e-07\n",
            "Epoch 32/100\n",
            "31/31 [==============================] - 1s 28ms/step - loss: 9.3120 - lr: 3.5481e-07\n",
            "Epoch 33/100\n",
            "31/31 [==============================] - 1s 27ms/step - loss: 8.8538 - lr: 3.9811e-07\n",
            "Epoch 34/100\n",
            "31/31 [==============================] - 1s 28ms/step - loss: 8.4125 - lr: 4.4668e-07\n",
            "Epoch 35/100\n",
            "31/31 [==============================] - 1s 28ms/step - loss: 7.9741 - lr: 5.0119e-07\n",
            "Epoch 36/100\n",
            "31/31 [==============================] - 1s 27ms/step - loss: 7.6233 - lr: 5.6234e-07\n",
            "Epoch 37/100\n",
            "31/31 [==============================] - 1s 28ms/step - loss: 7.3724 - lr: 6.3096e-07\n",
            "Epoch 38/100\n",
            "31/31 [==============================] - 1s 28ms/step - loss: 7.1029 - lr: 7.0795e-07\n",
            "Epoch 39/100\n",
            "31/31 [==============================] - 1s 27ms/step - loss: 6.8506 - lr: 7.9433e-07\n",
            "Epoch 40/100\n",
            "31/31 [==============================] - 1s 28ms/step - loss: 6.6851 - lr: 8.9125e-07\n",
            "Epoch 41/100\n",
            "31/31 [==============================] - 1s 27ms/step - loss: 6.6054 - lr: 1.0000e-06\n",
            "Epoch 42/100\n",
            "31/31 [==============================] - 1s 28ms/step - loss: 6.5723 - lr: 1.1220e-06\n",
            "Epoch 43/100\n",
            "31/31 [==============================] - 1s 27ms/step - loss: 6.4176 - lr: 1.2589e-06\n",
            "Epoch 44/100\n",
            "31/31 [==============================] - 1s 28ms/step - loss: 6.2027 - lr: 1.4125e-06\n",
            "Epoch 45/100\n",
            "31/31 [==============================] - 1s 28ms/step - loss: 6.1323 - lr: 1.5849e-06\n",
            "Epoch 46/100\n",
            "31/31 [==============================] - 1s 28ms/step - loss: 6.0526 - lr: 1.7783e-06\n",
            "Epoch 47/100\n",
            "31/31 [==============================] - 1s 28ms/step - loss: 5.8926 - lr: 1.9953e-06\n",
            "Epoch 48/100\n",
            "31/31 [==============================] - 1s 28ms/step - loss: 5.8280 - lr: 2.2387e-06\n",
            "Epoch 49/100\n",
            "31/31 [==============================] - 1s 27ms/step - loss: 5.7056 - lr: 2.5119e-06\n",
            "Epoch 50/100\n",
            "31/31 [==============================] - 1s 28ms/step - loss: 5.5611 - lr: 2.8184e-06\n",
            "Epoch 51/100\n",
            "31/31 [==============================] - 1s 28ms/step - loss: 5.6394 - lr: 3.1623e-06\n",
            "Epoch 52/100\n",
            "31/31 [==============================] - 1s 27ms/step - loss: 5.4284 - lr: 3.5481e-06\n",
            "Epoch 53/100\n",
            "31/31 [==============================] - 1s 28ms/step - loss: 5.3864 - lr: 3.9811e-06\n",
            "Epoch 54/100\n",
            "31/31 [==============================] - 1s 27ms/step - loss: 5.5758 - lr: 4.4668e-06\n",
            "Epoch 55/100\n",
            "31/31 [==============================] - 1s 28ms/step - loss: 5.4919 - lr: 5.0119e-06\n",
            "Epoch 56/100\n",
            "31/31 [==============================] - 1s 28ms/step - loss: 5.3184 - lr: 5.6234e-06\n",
            "Epoch 57/100\n",
            "31/31 [==============================] - 1s 29ms/step - loss: 5.4736 - lr: 6.3096e-06\n",
            "Epoch 58/100\n",
            "31/31 [==============================] - 1s 28ms/step - loss: 5.0823 - lr: 7.0795e-06\n",
            "Epoch 59/100\n",
            "31/31 [==============================] - 1s 28ms/step - loss: 5.0517 - lr: 7.9433e-06\n",
            "Epoch 60/100\n",
            "31/31 [==============================] - 1s 27ms/step - loss: 5.1381 - lr: 8.9125e-06\n",
            "Epoch 61/100\n",
            "31/31 [==============================] - 1s 28ms/step - loss: 5.1253 - lr: 1.0000e-05\n",
            "Epoch 62/100\n",
            "31/31 [==============================] - 1s 28ms/step - loss: 4.9096 - lr: 1.1220e-05\n",
            "Epoch 63/100\n",
            "31/31 [==============================] - 1s 28ms/step - loss: 4.7778 - lr: 1.2589e-05\n",
            "Epoch 64/100\n",
            "31/31 [==============================] - 1s 28ms/step - loss: 4.8328 - lr: 1.4125e-05\n",
            "Epoch 65/100\n",
            "31/31 [==============================] - 2s 46ms/step - loss: 4.8773 - lr: 1.5849e-05\n",
            "Epoch 66/100\n",
            "31/31 [==============================] - 1s 28ms/step - loss: 5.5078 - lr: 1.7783e-05\n",
            "Epoch 67/100\n",
            "31/31 [==============================] - 1s 28ms/step - loss: 4.9707 - lr: 1.9953e-05\n",
            "Epoch 68/100\n",
            "31/31 [==============================] - 1s 28ms/step - loss: 5.2351 - lr: 2.2387e-05\n",
            "Epoch 69/100\n",
            "31/31 [==============================] - 1s 33ms/step - loss: 4.8377 - lr: 2.5119e-05\n",
            "Epoch 70/100\n",
            "31/31 [==============================] - 1s 32ms/step - loss: 4.9682 - lr: 2.8184e-05\n",
            "Epoch 71/100\n",
            "31/31 [==============================] - 1s 29ms/step - loss: 5.0613 - lr: 3.1623e-05\n",
            "Epoch 72/100\n",
            "31/31 [==============================] - 1s 28ms/step - loss: 4.6454 - lr: 3.5481e-05\n",
            "Epoch 73/100\n",
            "31/31 [==============================] - 1s 28ms/step - loss: 5.3038 - lr: 3.9811e-05\n",
            "Epoch 74/100\n",
            "31/31 [==============================] - 1s 28ms/step - loss: 5.6976 - lr: 4.4668e-05\n",
            "Epoch 75/100\n",
            "31/31 [==============================] - 1s 28ms/step - loss: 5.2294 - lr: 5.0119e-05\n",
            "Epoch 76/100\n",
            "31/31 [==============================] - 1s 44ms/step - loss: 5.9962 - lr: 5.6234e-05\n",
            "Epoch 77/100\n",
            "31/31 [==============================] - 1s 28ms/step - loss: 5.7285 - lr: 6.3096e-05\n",
            "Epoch 78/100\n",
            "31/31 [==============================] - 1s 28ms/step - loss: 5.5576 - lr: 7.0795e-05\n",
            "Epoch 79/100\n",
            "31/31 [==============================] - 1s 28ms/step - loss: 5.9999 - lr: 7.9433e-05\n",
            "Epoch 80/100\n",
            "31/31 [==============================] - 1s 29ms/step - loss: 5.7619 - lr: 8.9125e-05\n",
            "Epoch 81/100\n",
            "31/31 [==============================] - 1s 28ms/step - loss: 7.2084 - lr: 1.0000e-04\n",
            "Epoch 82/100\n",
            "31/31 [==============================] - 1s 28ms/step - loss: 7.3135 - lr: 1.1220e-04\n",
            "Epoch 83/100\n",
            "31/31 [==============================] - 1s 28ms/step - loss: 7.3765 - lr: 1.2589e-04\n",
            "Epoch 84/100\n",
            "31/31 [==============================] - 1s 28ms/step - loss: 6.8996 - lr: 1.4125e-04\n",
            "Epoch 85/100\n",
            "31/31 [==============================] - 1s 28ms/step - loss: 7.0125 - lr: 1.5849e-04\n",
            "Epoch 86/100\n",
            "31/31 [==============================] - 1s 28ms/step - loss: 8.3095 - lr: 1.7783e-04\n",
            "Epoch 87/100\n",
            "31/31 [==============================] - 1s 28ms/step - loss: 6.9731 - lr: 1.9953e-04\n",
            "Epoch 88/100\n",
            "31/31 [==============================] - 1s 29ms/step - loss: 7.7619 - lr: 2.2387e-04\n",
            "Epoch 89/100\n",
            "31/31 [==============================] - 1s 28ms/step - loss: 7.2897 - lr: 2.5119e-04\n",
            "Epoch 90/100\n",
            "31/31 [==============================] - 1s 28ms/step - loss: 7.1371 - lr: 2.8184e-04\n",
            "Epoch 91/100\n",
            "31/31 [==============================] - 2s 43ms/step - loss: 7.9075 - lr: 3.1623e-04\n",
            "Epoch 92/100\n",
            "31/31 [==============================] - 1s 28ms/step - loss: 11.5891 - lr: 3.5481e-04\n",
            "Epoch 93/100\n",
            "31/31 [==============================] - 1s 29ms/step - loss: 8.5740 - lr: 3.9811e-04\n",
            "Epoch 94/100\n",
            "31/31 [==============================] - 1s 28ms/step - loss: 9.3281 - lr: 4.4668e-04\n",
            "Epoch 95/100\n",
            "31/31 [==============================] - 1s 29ms/step - loss: 11.2182 - lr: 5.0119e-04\n",
            "Epoch 96/100\n",
            "31/31 [==============================] - 1s 28ms/step - loss: 11.4192 - lr: 5.6234e-04\n",
            "Epoch 97/100\n",
            "31/31 [==============================] - 1s 28ms/step - loss: 9.6211 - lr: 6.3096e-04\n",
            "Epoch 98/100\n",
            "31/31 [==============================] - 1s 28ms/step - loss: 8.6809 - lr: 7.0795e-04\n",
            "Epoch 99/100\n",
            "31/31 [==============================] - 1s 28ms/step - loss: 8.0562 - lr: 7.9433e-04\n",
            "Epoch 100/100\n",
            "31/31 [==============================] - 1s 28ms/step - loss: 12.9742 - lr: 8.9125e-04\n"
          ]
        }
      ],
      "source": [
        "# Set the learning rate scheduler\n",
        "lr_schedule = tf.keras.callbacks.LearningRateScheduler(\n",
        "    lambda epoch: 1e-8 * 10**(epoch / 20))\n",
        "\n",
        "# Initialize the optimizer\n",
        "optimizer = tf.keras.optimizers.SGD(momentum=0.9)\n",
        "\n",
        "# Set the training parameters\n",
        "model_tune.compile(loss=tf.keras.losses.Huber(), optimizer=optimizer)\n",
        "\n",
        "# Train the model\n",
        "history = model_tune.fit(dataset, epochs=100, callbacks=[lr_schedule])"
      ]
    },
    {
      "cell_type": "code",
      "execution_count": 10,
      "metadata": {
        "id": "AkBsrsXMzoWR",
        "colab": {
          "base_uri": "https://localhost:8080/",
          "height": 405
        },
        "outputId": "fc8f8b90-ad89-4a0d-d6d0-90938e3011f0"
      },
      "outputs": [
        {
          "output_type": "execute_result",
          "data": {
            "text/plain": [
              "(1e-08, 0.001, 0.0, 30.0)"
            ]
          },
          "metadata": {},
          "execution_count": 10
        },
        {
          "output_type": "display_data",
          "data": {
            "text/plain": [
              "<Figure size 720x432 with 1 Axes>"
            ],
            "image/png": "[encoded data removed]"
          },
          "metadata": {
            "needs_background": "light"
          }
        }
      ],
      "source": [
        "# Define the learning rate array\n",
        "lrs = 1e-8 * (10 ** (np.arange(100) / 20))\n",
        "\n",
        "# Set the figure size\n",
        "plt.figure(figsize=(10, 6))\n",
        "\n",
        "# Set the grid\n",
        "plt.grid(True)\n",
        "\n",
        "# Plot the loss in log scale\n",
        "plt.semilogx(lrs, history.history[\"loss\"])\n",
        "\n",
        "# Increase the tickmarks size\n",
        "plt.tick_params('both', length=10, width=1, which='both')\n",
        "\n",
        "# Set the plot boundaries\n",
        "plt.axis([1e-8, 1e-3, 0, 30])"
      ]
    },
    {
      "cell_type": "markdown",
      "metadata": {
        "id": "i-lKNp4pq_w8"
      },
      "source": [
        "## Train the Model\n",
        "\n",
        "You can then proceed to train the model with your chosen learning rate. \n",
        "\n",
        "*Tip: When experimenting and you find yourself running different iterations of a model, you may want to use the [`clear_session()`](https://www.tensorflow.org/api_docs/python/tf/keras/backend/clear_session) method to declutter memory used by Keras. This is added in the first line below.*\n"
      ]
    },
    {
      "cell_type": "code",
      "execution_count": 11,
      "metadata": {
        "id": "4uh-97bpLZCA",
        "colab": {
          "base_uri": "https://localhost:8080/"
        },
        "outputId": "8e617c1c-ec1e-4e31-ee88-870a07b04466"
      },
      "outputs": [
        {
          "output_type": "stream",
          "name": "stdout",
          "text": [
            "Epoch 1/100\n",
            "31/31 [==============================] - 7s 28ms/step - loss: 27.3501 - mae: 27.8476\n",
            "Epoch 2/100\n",
            "31/31 [==============================] - 1s 27ms/step - loss: 11.3124 - mae: 11.8025\n",
            "Epoch 3/100\n",
            "31/31 [==============================] - 1s 28ms/step - loss: 7.8124 - mae: 8.2973\n",
            "Epoch 4/100\n",
            "31/31 [==============================] - 1s 28ms/step - loss: 6.6916 - mae: 7.1706\n",
            "Epoch 5/100\n",
            "31/31 [==============================] - 1s 27ms/step - loss: 6.3913 - mae: 6.8713\n",
            "Epoch 6/100\n",
            "31/31 [==============================] - 1s 28ms/step - loss: 6.1874 - mae: 6.6663\n",
            "Epoch 7/100\n",
            "31/31 [==============================] - 1s 28ms/step - loss: 6.0420 - mae: 6.5199\n",
            "Epoch 8/100\n",
            "31/31 [==============================] - 1s 27ms/step - loss: 5.9482 - mae: 6.4256\n",
            "Epoch 9/100\n",
            "31/31 [==============================] - 1s 28ms/step - loss: 5.8703 - mae: 6.3484\n",
            "Epoch 10/100\n",
            "31/31 [==============================] - 1s 28ms/step - loss: 5.8009 - mae: 6.2813\n",
            "Epoch 11/100\n",
            "31/31 [==============================] - 1s 28ms/step - loss: 5.7446 - mae: 6.2235\n",
            "Epoch 12/100\n",
            "31/31 [==============================] - 1s 28ms/step - loss: 5.6245 - mae: 6.1048\n",
            "Epoch 13/100\n",
            "31/31 [==============================] - 1s 27ms/step - loss: 5.5436 - mae: 6.0238\n",
            "Epoch 14/100\n",
            "31/31 [==============================] - 1s 29ms/step - loss: 5.4963 - mae: 5.9769\n",
            "Epoch 15/100\n",
            "31/31 [==============================] - 1s 28ms/step - loss: 5.4693 - mae: 5.9513\n",
            "Epoch 16/100\n",
            "31/31 [==============================] - 1s 28ms/step - loss: 5.3702 - mae: 5.8508\n",
            "Epoch 17/100\n",
            "31/31 [==============================] - 1s 27ms/step - loss: 5.3523 - mae: 5.8310\n",
            "Epoch 18/100\n",
            "31/31 [==============================] - 1s 28ms/step - loss: 5.3390 - mae: 5.8166\n",
            "Epoch 19/100\n",
            "31/31 [==============================] - 1s 28ms/step - loss: 5.2531 - mae: 5.7318\n",
            "Epoch 20/100\n",
            "31/31 [==============================] - 1s 28ms/step - loss: 5.2243 - mae: 5.7031\n",
            "Epoch 21/100\n",
            "31/31 [==============================] - 1s 28ms/step - loss: 5.1918 - mae: 5.6703\n",
            "Epoch 22/100\n",
            "31/31 [==============================] - 1s 29ms/step - loss: 5.2069 - mae: 5.6848\n",
            "Epoch 23/100\n",
            "31/31 [==============================] - 1s 28ms/step - loss: 5.1061 - mae: 5.5822\n",
            "Epoch 24/100\n",
            "31/31 [==============================] - 1s 28ms/step - loss: 5.1529 - mae: 5.6333\n",
            "Epoch 25/100\n",
            "31/31 [==============================] - 1s 27ms/step - loss: 5.0677 - mae: 5.5438\n",
            "Epoch 26/100\n",
            "31/31 [==============================] - 1s 28ms/step - loss: 5.0376 - mae: 5.5151\n",
            "Epoch 27/100\n",
            "31/31 [==============================] - 1s 28ms/step - loss: 5.0535 - mae: 5.5316\n",
            "Epoch 28/100\n",
            "31/31 [==============================] - 1s 28ms/step - loss: 5.0488 - mae: 5.5272\n",
            "Epoch 29/100\n",
            "31/31 [==============================] - 1s 28ms/step - loss: 4.9919 - mae: 5.4668\n",
            "Epoch 30/100\n",
            "31/31 [==============================] - 1s 29ms/step - loss: 5.1215 - mae: 5.5970\n",
            "Epoch 31/100\n",
            "31/31 [==============================] - 1s 28ms/step - loss: 5.1324 - mae: 5.6148\n",
            "Epoch 32/100\n",
            "31/31 [==============================] - 1s 28ms/step - loss: 4.9010 - mae: 5.3736\n",
            "Epoch 33/100\n",
            "31/31 [==============================] - 1s 28ms/step - loss: 4.9415 - mae: 5.4197\n",
            "Epoch 34/100\n",
            "31/31 [==============================] - 1s 27ms/step - loss: 4.8983 - mae: 5.3749\n",
            "Epoch 35/100\n",
            "31/31 [==============================] - 1s 28ms/step - loss: 4.9113 - mae: 5.3857\n",
            "Epoch 36/100\n",
            "31/31 [==============================] - 1s 28ms/step - loss: 4.8306 - mae: 5.3073\n",
            "Epoch 37/100\n",
            "31/31 [==============================] - 1s 28ms/step - loss: 4.8353 - mae: 5.3126\n",
            "Epoch 38/100\n",
            "31/31 [==============================] - 1s 28ms/step - loss: 4.9782 - mae: 5.4561\n",
            "Epoch 39/100\n",
            "31/31 [==============================] - 1s 28ms/step - loss: 4.8198 - mae: 5.3003\n",
            "Epoch 40/100\n",
            "31/31 [==============================] - 1s 27ms/step - loss: 4.9691 - mae: 5.4444\n",
            "Epoch 41/100\n",
            "31/31 [==============================] - 1s 28ms/step - loss: 4.8333 - mae: 5.3079\n",
            "Epoch 42/100\n",
            "31/31 [==============================] - 1s 28ms/step - loss: 4.7696 - mae: 5.2474\n",
            "Epoch 43/100\n",
            "31/31 [==============================] - 2s 47ms/step - loss: 4.7798 - mae: 5.2589\n",
            "Epoch 44/100\n",
            "31/31 [==============================] - 1s 27ms/step - loss: 4.8659 - mae: 5.3419\n",
            "Epoch 45/100\n",
            "31/31 [==============================] - 1s 28ms/step - loss: 4.8472 - mae: 5.3228\n",
            "Epoch 46/100\n",
            "31/31 [==============================] - 1s 28ms/step - loss: 4.7961 - mae: 5.2735\n",
            "Epoch 47/100\n",
            "31/31 [==============================] - 1s 27ms/step - loss: 4.7476 - mae: 5.2247\n",
            "Epoch 48/100\n",
            "31/31 [==============================] - 1s 27ms/step - loss: 4.7237 - mae: 5.1976\n",
            "Epoch 49/100\n",
            "31/31 [==============================] - 1s 28ms/step - loss: 4.6912 - mae: 5.1671\n",
            "Epoch 50/100\n",
            "31/31 [==============================] - 1s 27ms/step - loss: 4.6797 - mae: 5.1528\n",
            "Epoch 51/100\n",
            "31/31 [==============================] - 1s 27ms/step - loss: 4.6570 - mae: 5.1328\n",
            "Epoch 52/100\n",
            "31/31 [==============================] - 1s 28ms/step - loss: 4.7098 - mae: 5.1874\n",
            "Epoch 53/100\n",
            "31/31 [==============================] - 1s 28ms/step - loss: 4.8267 - mae: 5.3051\n",
            "Epoch 54/100\n",
            "31/31 [==============================] - 1s 28ms/step - loss: 4.6761 - mae: 5.1508\n",
            "Epoch 55/100\n",
            "31/31 [==============================] - 1s 29ms/step - loss: 4.6621 - mae: 5.1381\n",
            "Epoch 56/100\n",
            "31/31 [==============================] - 1s 28ms/step - loss: 4.7098 - mae: 5.1876\n",
            "Epoch 57/100\n",
            "31/31 [==============================] - 1s 27ms/step - loss: 4.6551 - mae: 5.1316\n",
            "Epoch 58/100\n",
            "31/31 [==============================] - 1s 27ms/step - loss: 4.6357 - mae: 5.1136\n",
            "Epoch 59/100\n",
            "31/31 [==============================] - 1s 29ms/step - loss: 4.6198 - mae: 5.0962\n",
            "Epoch 60/100\n",
            "31/31 [==============================] - 1s 28ms/step - loss: 4.6356 - mae: 5.1126\n",
            "Epoch 61/100\n",
            "31/31 [==============================] - 1s 27ms/step - loss: 4.6272 - mae: 5.1016\n",
            "Epoch 62/100\n",
            "31/31 [==============================] - 1s 28ms/step - loss: 4.6745 - mae: 5.1476\n",
            "Epoch 63/100\n",
            "31/31 [==============================] - 1s 28ms/step - loss: 4.6364 - mae: 5.1161\n",
            "Epoch 64/100\n",
            "31/31 [==============================] - 1s 28ms/step - loss: 4.5956 - mae: 5.0685\n",
            "Epoch 65/100\n",
            "31/31 [==============================] - 1s 27ms/step - loss: 4.6479 - mae: 5.1272\n",
            "Epoch 66/100\n",
            "31/31 [==============================] - 1s 28ms/step - loss: 4.6957 - mae: 5.1725\n",
            "Epoch 67/100\n",
            "31/31 [==============================] - 1s 28ms/step - loss: 4.6374 - mae: 5.1134\n",
            "Epoch 68/100\n",
            "31/31 [==============================] - 1s 28ms/step - loss: 4.6416 - mae: 5.1193\n",
            "Epoch 69/100\n",
            "31/31 [==============================] - 1s 28ms/step - loss: 4.5782 - mae: 5.0521\n",
            "Epoch 70/100\n",
            "31/31 [==============================] - 2s 55ms/step - loss: 4.6803 - mae: 5.1612\n",
            "Epoch 71/100\n",
            "31/31 [==============================] - 1s 29ms/step - loss: 4.7821 - mae: 5.2591\n",
            "Epoch 72/100\n",
            "31/31 [==============================] - 1s 28ms/step - loss: 4.5940 - mae: 5.0658\n",
            "Epoch 73/100\n",
            "31/31 [==============================] - 1s 28ms/step - loss: 4.6378 - mae: 5.1149\n",
            "Epoch 74/100\n",
            "31/31 [==============================] - 1s 28ms/step - loss: 4.6028 - mae: 5.0803\n",
            "Epoch 75/100\n",
            "31/31 [==============================] - 1s 27ms/step - loss: 4.6005 - mae: 5.0782\n",
            "Epoch 76/100\n",
            "31/31 [==============================] - 1s 28ms/step - loss: 4.5819 - mae: 5.0563\n",
            "Epoch 77/100\n",
            "31/31 [==============================] - 1s 29ms/step - loss: 4.5438 - mae: 5.0223\n",
            "Epoch 78/100\n",
            "31/31 [==============================] - 1s 28ms/step - loss: 4.5503 - mae: 5.0296\n",
            "Epoch 79/100\n",
            "31/31 [==============================] - 1s 28ms/step - loss: 4.5812 - mae: 5.0559\n",
            "Epoch 80/100\n",
            "31/31 [==============================] - 1s 29ms/step - loss: 4.5546 - mae: 5.0303\n",
            "Epoch 81/100\n",
            "31/31 [==============================] - 1s 27ms/step - loss: 4.6114 - mae: 5.0882\n",
            "Epoch 82/100\n",
            "31/31 [==============================] - 1s 28ms/step - loss: 4.5528 - mae: 5.0294\n",
            "Epoch 83/100\n",
            "31/31 [==============================] - 1s 29ms/step - loss: 4.6325 - mae: 5.1113\n",
            "Epoch 84/100\n",
            "31/31 [==============================] - 1s 28ms/step - loss: 4.5906 - mae: 5.0686\n",
            "Epoch 85/100\n",
            "31/31 [==============================] - 1s 28ms/step - loss: 4.5857 - mae: 5.0617\n",
            "Epoch 86/100\n",
            "31/31 [==============================] - 1s 27ms/step - loss: 4.5925 - mae: 5.0641\n",
            "Epoch 87/100\n",
            "31/31 [==============================] - 1s 28ms/step - loss: 4.5705 - mae: 5.0470\n",
            "Epoch 88/100\n",
            "31/31 [==============================] - 1s 28ms/step - loss: 4.5786 - mae: 5.0509\n",
            "Epoch 89/100\n",
            "31/31 [==============================] - 1s 28ms/step - loss: 4.5954 - mae: 5.0697\n",
            "Epoch 90/100\n",
            "31/31 [==============================] - 1s 28ms/step - loss: 4.5634 - mae: 5.0402\n",
            "Epoch 91/100\n",
            "31/31 [==============================] - 1s 28ms/step - loss: 4.5512 - mae: 5.0263\n",
            "Epoch 92/100\n",
            "31/31 [==============================] - 1s 28ms/step - loss: 4.5637 - mae: 5.0435\n",
            "Epoch 93/100\n",
            "31/31 [==============================] - 1s 28ms/step - loss: 4.5391 - mae: 5.0159\n",
            "Epoch 94/100\n",
            "31/31 [==============================] - 1s 27ms/step - loss: 4.6362 - mae: 5.1126\n",
            "Epoch 95/100\n",
            "31/31 [==============================] - 1s 28ms/step - loss: 4.5340 - mae: 5.0091\n",
            "Epoch 96/100\n",
            "31/31 [==============================] - 1s 28ms/step - loss: 4.5421 - mae: 5.0209\n",
            "Epoch 97/100\n",
            "31/31 [==============================] - 1s 28ms/step - loss: 4.5974 - mae: 5.0792\n",
            "Epoch 98/100\n",
            "31/31 [==============================] - 1s 28ms/step - loss: 4.5479 - mae: 5.0217\n",
            "Epoch 99/100\n",
            "31/31 [==============================] - 1s 28ms/step - loss: 4.5346 - mae: 5.0118\n",
            "Epoch 100/100\n",
            "31/31 [==============================] - 1s 28ms/step - loss: 4.5194 - mae: 4.9984\n"
          ]
        }
      ],
      "source": [
        "# Reset states generated by Keras\n",
        "tf.keras.backend.clear_session()\n",
        "\n",
        "# Build the model\n",
        "model = tf.keras.models.Sequential([\n",
        "  tf.keras.layers.Lambda(lambda x: tf.expand_dims(x, axis=-1),\n",
        "                      input_shape=[None]),\n",
        "   tf.keras.layers.Bidirectional(tf.keras.layers.LSTM(32, return_sequences=True)),\n",
        "  tf.keras.layers.Bidirectional(tf.keras.layers.LSTM(32)),\n",
        "  tf.keras.layers.Dense(1),\n",
        "  tf.keras.layers.Lambda(lambda x: x * 100.0)\n",
        "])\n",
        "\n",
        "# Set the learning rate\n",
        "learning_rate = 2e-6\n",
        "\n",
        "# Set the optimizer \n",
        "optimizer = tf.keras.optimizers.SGD(learning_rate=learning_rate, momentum=0.9)\n",
        "\n",
        "# Set the training parameters\n",
        "model.compile(loss=tf.keras.losses.Huber(),\n",
        "              optimizer=optimizer,\n",
        "              metrics=[\"mae\"])\n",
        "\n",
        "# Train the model\n",
        "history = model.fit(dataset,epochs=100)"
      ]
    },
    {
      "cell_type": "markdown",
      "metadata": {
        "id": "RjP4kbGiI7cw"
      },
      "source": [
        "## Model Prediction\n",
        "\n",
        "You will then generate batches of windows to generate predictions that align with the validation set."
      ]
    },
    {
      "cell_type": "code",
      "execution_count": 12,
      "metadata": {
        "id": "QO8cfKwKBBG6"
      },
      "outputs": [],
      "source": [
        "def model_forecast(model, series, window_size, batch_size):\n",
        "    \"\"\"Uses an input model to generate predictions on data windows\n",
        "\n",
        "    Args:\n",
        "      model (TF Keras Model) - model that accepts data windows\n",
        "      series (array of float) - contains the values of the time series\n",
        "      window_size (int) - the number of time steps to include in the window\n",
        "      batch_size (int) - the batch size\n",
        "\n",
        "    Returns:\n",
        "      forecast (numpy array) - array containing predictions\n",
        "    \"\"\"\n",
        "\n",
        "    # Generate a TF Dataset from the series values\n",
        "    dataset = tf.data.Dataset.from_tensor_slices(series)\n",
        "\n",
        "    # Window the data but only take those with the specified size\n",
        "    dataset = dataset.window(window_size, shift=1, drop_remainder=True)\n",
        "\n",
        "    # Flatten the windows by putting its elements in a single batch\n",
        "    dataset = dataset.flat_map(lambda w: w.batch(window_size))\n",
        "    \n",
        "    # Create batches of windows\n",
        "    dataset = dataset.batch(batch_size).prefetch(1)\n",
        "    \n",
        "    # Get predictions on the entire dataset\n",
        "    forecast = model.predict(dataset)\n",
        "    \n",
        "    return forecast"
      ]
    },
    {
      "cell_type": "code",
      "execution_count": 13,
      "metadata": {
        "id": "_plB3UseBD8o",
        "colab": {
          "base_uri": "https://localhost:8080/",
          "height": 388
        },
        "outputId": "0fd80d19-8173-456a-825d-9e09d13fd1d7"
      },
      "outputs": [
        {
          "output_type": "display_data",
          "data": {
            "text/plain": [
              "<Figure size 720x432 with 1 Axes>"
            ],
            "image/png": "[encoded data removed]"
          },
          "metadata": {
            "needs_background": "light"
          }
        }
      ],
      "source": [
        "# Reduce the original series\n",
        "forecast_series = series[split_time-window_size:-1]\n",
        "\n",
        "# Use helper function to generate predictions\n",
        "forecast = model_forecast(model, forecast_series, window_size, batch_size)\n",
        "\n",
        "# Drop single dimensional axis\n",
        "results = forecast.squeeze()\n",
        "\n",
        "# Plot the results\n",
        "plot_series(time_valid, (x_valid, results))"
      ]
    },
    {
      "cell_type": "markdown",
      "metadata": {
        "id": "Nn8iSQkZtaRC"
      },
      "source": [
        "You can then generate the metrics to evaluate the model's performance."
      ]
    },
    {
      "cell_type": "code",
      "execution_count": 14,
      "metadata": {
        "id": "-IKhueZaBGID",
        "colab": {
          "base_uri": "https://localhost:8080/"
        },
        "outputId": "53ffffe5-1d6e-46eb-c8e1-806691cb90d9"
      },
      "outputs": [
        {
          "output_type": "stream",
          "name": "stdout",
          "text": [
            "92.018486\n",
            "7.0239286\n"
          ]
        }
      ],
      "source": [
        "# Compute the MSE and MAE\n",
        "print(tf.keras.metrics.mean_squared_error(x_valid, results).numpy())\n",
        "print(tf.keras.metrics.mean_absolute_error(x_valid, results).numpy())"
      ]
    },
    {
      "cell_type": "markdown",
      "metadata": {
        "id": "bzPIqeMWvbPy"
      },
      "source": [
        "## Wrap Up\n",
        "\n",
        "This concludes this short exercise on using LSTMs for time series forecasting. Next week, you will build upon this and add convolutions. Then, you will start to move away from synthetic data and use real-world datasets. See you there!"
      ]
    },
    {
      "cell_type": "markdown",
      "metadata": {
        "id": "U5PqTePGHeMH"
      },
      "source": [
        "## Optional: Including a Validation Set while Training\n",
        "\n",
        "Back in the first course of this specialization, you saw how you can also monitor the performance of your model against a validation set while training. You can also do that for this lab. \n",
        "\n",
        "First, you need to generate a `val_set` which are data windows and labels that your model can accept. You can simply reuse the `windowed_dataset` function for that and you can pass in the `x_valid` points to generate the windows."
      ]
    },
    {
      "cell_type": "code",
      "execution_count": 15,
      "metadata": {
        "id": "kvFVwL3PC4iX"
      },
      "outputs": [],
      "source": [
        "# Generate data windows of the validation set\n",
        "val_set = windowed_dataset(x_valid, window_size, batch_size, shuffle_buffer_size)"
      ]
    },
    {
      "cell_type": "markdown",
      "metadata": {
        "id": "p68j6XxEvP9K"
      },
      "source": [
        "You can then do the same training as before but pass in the `val_set` to the `validation_data` parameter of the `fit()` method."
      ]
    },
    {
      "cell_type": "code",
      "execution_count": 16,
      "metadata": {
        "id": "wujKz6tXDSn0",
        "colab": {
          "base_uri": "https://localhost:8080/"
        },
        "outputId": "4af125ae-e53d-447c-e6f2-afd12b251f68"
      },
      "outputs": [
        {
          "output_type": "stream",
          "name": "stdout",
          "text": [
            "Epoch 1/100\n",
            "31/31 [==============================] - 9s 86ms/step - loss: 18.8838 - mae: 19.3790 - val_loss: 25.4152 - val_mae: 25.9148\n",
            "Epoch 2/100\n",
            "31/31 [==============================] - 1s 33ms/step - loss: 9.8923 - mae: 10.3773 - val_loss: 22.7487 - val_mae: 23.2458\n",
            "Epoch 3/100\n",
            "31/31 [==============================] - 1s 32ms/step - loss: 7.9824 - mae: 8.4668 - val_loss: 19.3424 - val_mae: 19.8400\n",
            "Epoch 4/100\n",
            "31/31 [==============================] - 1s 33ms/step - loss: 7.0073 - mae: 7.4897 - val_loss: 16.9111 - val_mae: 17.4076\n",
            "Epoch 5/100\n",
            "31/31 [==============================] - 1s 33ms/step - loss: 6.5346 - mae: 7.0150 - val_loss: 14.1008 - val_mae: 14.5924\n",
            "Epoch 6/100\n",
            "31/31 [==============================] - 1s 33ms/step - loss: 6.2533 - mae: 6.7336 - val_loss: 13.1463 - val_mae: 13.6403\n",
            "Epoch 7/100\n",
            "31/31 [==============================] - 1s 33ms/step - loss: 6.0643 - mae: 6.5481 - val_loss: 12.7476 - val_mae: 13.2401\n",
            "Epoch 8/100\n",
            "31/31 [==============================] - 1s 33ms/step - loss: 5.9059 - mae: 6.3874 - val_loss: 12.1927 - val_mae: 12.6865\n",
            "Epoch 9/100\n",
            "31/31 [==============================] - 1s 33ms/step - loss: 5.7688 - mae: 6.2490 - val_loss: 10.9515 - val_mae: 11.4435\n",
            "Epoch 10/100\n",
            "31/31 [==============================] - 1s 34ms/step - loss: 5.6642 - mae: 6.1411 - val_loss: 11.2516 - val_mae: 11.7427\n",
            "Epoch 11/100\n",
            "31/31 [==============================] - 1s 33ms/step - loss: 5.6437 - mae: 6.1226 - val_loss: 10.2502 - val_mae: 10.7443\n",
            "Epoch 12/100\n",
            "31/31 [==============================] - 1s 33ms/step - loss: 5.5706 - mae: 6.0509 - val_loss: 9.3563 - val_mae: 9.8446\n",
            "Epoch 13/100\n",
            "31/31 [==============================] - 1s 33ms/step - loss: 5.4525 - mae: 5.9311 - val_loss: 9.6558 - val_mae: 10.1468\n",
            "Epoch 14/100\n",
            "31/31 [==============================] - 1s 33ms/step - loss: 5.3953 - mae: 5.8755 - val_loss: 9.3780 - val_mae: 9.8703\n",
            "Epoch 15/100\n",
            "31/31 [==============================] - 1s 33ms/step - loss: 5.3384 - mae: 5.8175 - val_loss: 9.3161 - val_mae: 9.8088\n",
            "Epoch 16/100\n",
            "31/31 [==============================] - 1s 33ms/step - loss: 5.3084 - mae: 5.7886 - val_loss: 8.0587 - val_mae: 8.5453\n",
            "Epoch 17/100\n",
            "31/31 [==============================] - 1s 33ms/step - loss: 5.3798 - mae: 5.8612 - val_loss: 8.4821 - val_mae: 8.9671\n",
            "Epoch 18/100\n",
            "31/31 [==============================] - 1s 33ms/step - loss: 5.2501 - mae: 5.7318 - val_loss: 7.7546 - val_mae: 8.2419\n",
            "Epoch 19/100\n",
            "31/31 [==============================] - 1s 33ms/step - loss: 5.2445 - mae: 5.7265 - val_loss: 7.9374 - val_mae: 8.4234\n",
            "Epoch 20/100\n",
            "31/31 [==============================] - 1s 34ms/step - loss: 5.2160 - mae: 5.6971 - val_loss: 8.2244 - val_mae: 8.7107\n",
            "Epoch 21/100\n",
            "31/31 [==============================] - 1s 33ms/step - loss: 5.1671 - mae: 5.6454 - val_loss: 8.3446 - val_mae: 8.8337\n",
            "Epoch 22/100\n",
            "31/31 [==============================] - 1s 34ms/step - loss: 5.0926 - mae: 5.5730 - val_loss: 7.4898 - val_mae: 7.9746\n",
            "Epoch 23/100\n",
            "31/31 [==============================] - 1s 33ms/step - loss: 5.0957 - mae: 5.5775 - val_loss: 8.1393 - val_mae: 8.6301\n",
            "Epoch 24/100\n",
            "31/31 [==============================] - 1s 33ms/step - loss: 5.0705 - mae: 5.5486 - val_loss: 7.9778 - val_mae: 8.4645\n",
            "Epoch 25/100\n",
            "31/31 [==============================] - 1s 34ms/step - loss: 5.0188 - mae: 5.4947 - val_loss: 7.5400 - val_mae: 8.0283\n",
            "Epoch 26/100\n",
            "31/31 [==============================] - 1s 33ms/step - loss: 4.9958 - mae: 5.4740 - val_loss: 8.2672 - val_mae: 8.7542\n",
            "Epoch 27/100\n",
            "31/31 [==============================] - 1s 34ms/step - loss: 5.0043 - mae: 5.4803 - val_loss: 8.3610 - val_mae: 8.8446\n",
            "Epoch 28/100\n",
            "31/31 [==============================] - 1s 33ms/step - loss: 5.0640 - mae: 5.5446 - val_loss: 7.6540 - val_mae: 8.1387\n",
            "Epoch 29/100\n",
            "31/31 [==============================] - 1s 33ms/step - loss: 5.0537 - mae: 5.5321 - val_loss: 7.4349 - val_mae: 7.9205\n",
            "Epoch 30/100\n",
            "31/31 [==============================] - 1s 33ms/step - loss: 5.0077 - mae: 5.4883 - val_loss: 8.2380 - val_mae: 8.7227\n",
            "Epoch 31/100\n",
            "31/31 [==============================] - 1s 33ms/step - loss: 4.9504 - mae: 5.4299 - val_loss: 7.1258 - val_mae: 7.6093\n",
            "Epoch 32/100\n",
            "31/31 [==============================] - 1s 33ms/step - loss: 4.9139 - mae: 5.3948 - val_loss: 7.7780 - val_mae: 8.2656\n",
            "Epoch 33/100\n",
            "31/31 [==============================] - 1s 34ms/step - loss: 4.9164 - mae: 5.3964 - val_loss: 7.2360 - val_mae: 7.7186\n",
            "Epoch 34/100\n",
            "31/31 [==============================] - 1s 33ms/step - loss: 4.8966 - mae: 5.3755 - val_loss: 7.7585 - val_mae: 8.2448\n",
            "Epoch 35/100\n",
            "31/31 [==============================] - 1s 34ms/step - loss: 4.8562 - mae: 5.3355 - val_loss: 7.3314 - val_mae: 7.8159\n",
            "Epoch 36/100\n",
            "31/31 [==============================] - 1s 33ms/step - loss: 4.8504 - mae: 5.3257 - val_loss: 6.9221 - val_mae: 7.4049\n",
            "Epoch 37/100\n",
            "31/31 [==============================] - 1s 34ms/step - loss: 4.8226 - mae: 5.2997 - val_loss: 7.2881 - val_mae: 7.7729\n",
            "Epoch 38/100\n",
            "31/31 [==============================] - 1s 33ms/step - loss: 4.7905 - mae: 5.2672 - val_loss: 7.0330 - val_mae: 7.5139\n",
            "Epoch 39/100\n",
            "31/31 [==============================] - 1s 34ms/step - loss: 4.7964 - mae: 5.2759 - val_loss: 6.7935 - val_mae: 7.2756\n",
            "Epoch 40/100\n",
            "31/31 [==============================] - 1s 34ms/step - loss: 4.8927 - mae: 5.3759 - val_loss: 6.8106 - val_mae: 7.2932\n",
            "Epoch 41/100\n",
            "31/31 [==============================] - 1s 33ms/step - loss: 4.8490 - mae: 5.3330 - val_loss: 7.2185 - val_mae: 7.7023\n",
            "Epoch 42/100\n",
            "31/31 [==============================] - 1s 33ms/step - loss: 4.7812 - mae: 5.2576 - val_loss: 6.7588 - val_mae: 7.2412\n",
            "Epoch 43/100\n",
            "31/31 [==============================] - 1s 34ms/step - loss: 4.7794 - mae: 5.2603 - val_loss: 6.7105 - val_mae: 7.1932\n",
            "Epoch 44/100\n",
            "31/31 [==============================] - 1s 34ms/step - loss: 4.7764 - mae: 5.2560 - val_loss: 7.1352 - val_mae: 7.6175\n",
            "Epoch 45/100\n",
            "31/31 [==============================] - 1s 34ms/step - loss: 4.8381 - mae: 5.3160 - val_loss: 6.5198 - val_mae: 7.0041\n",
            "Epoch 46/100\n",
            "31/31 [==============================] - 1s 34ms/step - loss: 4.7574 - mae: 5.2351 - val_loss: 7.4760 - val_mae: 7.9606\n",
            "Epoch 47/100\n",
            "31/31 [==============================] - 1s 34ms/step - loss: 4.7175 - mae: 5.1961 - val_loss: 7.3702 - val_mae: 7.8536\n",
            "Epoch 48/100\n",
            "31/31 [==============================] - 1s 34ms/step - loss: 4.7141 - mae: 5.1926 - val_loss: 6.2715 - val_mae: 6.7527\n",
            "Epoch 49/100\n",
            "31/31 [==============================] - 1s 34ms/step - loss: 4.7629 - mae: 5.2413 - val_loss: 6.4025 - val_mae: 6.8864\n",
            "Epoch 50/100\n",
            "31/31 [==============================] - 1s 34ms/step - loss: 4.7197 - mae: 5.1982 - val_loss: 7.4123 - val_mae: 7.8966\n",
            "Epoch 51/100\n",
            "31/31 [==============================] - 1s 34ms/step - loss: 4.7061 - mae: 5.1839 - val_loss: 6.2558 - val_mae: 6.7375\n",
            "Epoch 52/100\n",
            "31/31 [==============================] - 1s 34ms/step - loss: 4.7012 - mae: 5.1788 - val_loss: 6.4245 - val_mae: 6.9092\n",
            "Epoch 53/100\n",
            "31/31 [==============================] - 1s 33ms/step - loss: 4.6949 - mae: 5.1719 - val_loss: 6.4173 - val_mae: 6.9025\n",
            "Epoch 54/100\n",
            "31/31 [==============================] - 1s 33ms/step - loss: 4.6522 - mae: 5.1328 - val_loss: 6.5916 - val_mae: 7.0715\n",
            "Epoch 55/100\n",
            "31/31 [==============================] - 1s 34ms/step - loss: 4.6807 - mae: 5.1579 - val_loss: 6.4834 - val_mae: 6.9652\n",
            "Epoch 56/100\n",
            "31/31 [==============================] - 1s 33ms/step - loss: 4.6471 - mae: 5.1279 - val_loss: 5.9222 - val_mae: 6.4042\n",
            "Epoch 57/100\n",
            "31/31 [==============================] - 1s 33ms/step - loss: 4.6445 - mae: 5.1255 - val_loss: 7.8803 - val_mae: 8.3705\n",
            "Epoch 58/100\n",
            "31/31 [==============================] - 1s 33ms/step - loss: 4.6999 - mae: 5.1776 - val_loss: 6.2963 - val_mae: 6.7812\n",
            "Epoch 59/100\n",
            "31/31 [==============================] - 1s 33ms/step - loss: 4.6349 - mae: 5.1156 - val_loss: 6.1877 - val_mae: 6.6714\n",
            "Epoch 60/100\n",
            "31/31 [==============================] - 1s 34ms/step - loss: 4.6556 - mae: 5.1340 - val_loss: 6.1769 - val_mae: 6.6610\n",
            "Epoch 61/100\n",
            "31/31 [==============================] - 1s 33ms/step - loss: 4.6130 - mae: 5.0943 - val_loss: 6.1148 - val_mae: 6.5966\n",
            "Epoch 62/100\n",
            "31/31 [==============================] - 1s 34ms/step - loss: 4.6736 - mae: 5.1525 - val_loss: 7.1724 - val_mae: 7.6583\n",
            "Epoch 63/100\n",
            "31/31 [==============================] - 1s 34ms/step - loss: 4.6310 - mae: 5.1112 - val_loss: 6.4688 - val_mae: 6.9467\n",
            "Epoch 64/100\n",
            "31/31 [==============================] - 1s 34ms/step - loss: 4.6235 - mae: 5.1030 - val_loss: 7.0126 - val_mae: 7.4952\n",
            "Epoch 65/100\n",
            "31/31 [==============================] - 1s 33ms/step - loss: 4.6760 - mae: 5.1519 - val_loss: 6.9645 - val_mae: 7.4450\n",
            "Epoch 66/100\n",
            "31/31 [==============================] - 1s 34ms/step - loss: 4.5796 - mae: 5.0593 - val_loss: 6.2223 - val_mae: 6.7030\n",
            "Epoch 67/100\n",
            "31/31 [==============================] - 1s 34ms/step - loss: 4.5673 - mae: 5.0458 - val_loss: 6.1834 - val_mae: 6.6649\n",
            "Epoch 68/100\n",
            "31/31 [==============================] - 1s 33ms/step - loss: 4.5741 - mae: 5.0525 - val_loss: 6.5739 - val_mae: 7.0526\n",
            "Epoch 69/100\n",
            "31/31 [==============================] - 1s 34ms/step - loss: 4.5930 - mae: 5.0727 - val_loss: 5.7651 - val_mae: 6.2458\n",
            "Epoch 70/100\n",
            "31/31 [==============================] - 1s 34ms/step - loss: 4.5343 - mae: 5.0098 - val_loss: 5.8658 - val_mae: 6.3491\n",
            "Epoch 71/100\n",
            "31/31 [==============================] - 1s 34ms/step - loss: 4.5926 - mae: 5.0726 - val_loss: 6.2267 - val_mae: 6.7059\n",
            "Epoch 72/100\n",
            "31/31 [==============================] - 1s 33ms/step - loss: 4.5561 - mae: 5.0359 - val_loss: 6.3189 - val_mae: 6.7976\n",
            "Epoch 73/100\n",
            "31/31 [==============================] - 1s 34ms/step - loss: 4.5867 - mae: 5.0654 - val_loss: 6.5294 - val_mae: 7.0077\n",
            "Epoch 74/100\n",
            "31/31 [==============================] - 1s 34ms/step - loss: 4.7025 - mae: 5.1790 - val_loss: 6.5643 - val_mae: 7.0442\n",
            "Epoch 75/100\n",
            "31/31 [==============================] - 1s 34ms/step - loss: 4.6177 - mae: 5.0954 - val_loss: 5.6589 - val_mae: 6.1373\n",
            "Epoch 76/100\n",
            "31/31 [==============================] - 1s 34ms/step - loss: 4.5830 - mae: 5.0605 - val_loss: 6.0495 - val_mae: 6.5272\n",
            "Epoch 77/100\n",
            "31/31 [==============================] - 1s 34ms/step - loss: 4.7100 - mae: 5.1890 - val_loss: 5.4929 - val_mae: 5.9774\n",
            "Epoch 78/100\n",
            "31/31 [==============================] - 1s 34ms/step - loss: 4.6406 - mae: 5.1192 - val_loss: 5.9036 - val_mae: 6.3860\n",
            "Epoch 79/100\n",
            "31/31 [==============================] - 1s 34ms/step - loss: 4.6045 - mae: 5.0829 - val_loss: 5.4857 - val_mae: 5.9691\n",
            "Epoch 80/100\n",
            "31/31 [==============================] - 1s 34ms/step - loss: 4.5895 - mae: 5.0671 - val_loss: 5.7600 - val_mae: 6.2447\n",
            "Epoch 81/100\n",
            "31/31 [==============================] - 1s 34ms/step - loss: 4.5577 - mae: 5.0376 - val_loss: 5.6618 - val_mae: 6.1455\n",
            "Epoch 82/100\n",
            "31/31 [==============================] - 1s 35ms/step - loss: 4.5098 - mae: 4.9887 - val_loss: 5.8797 - val_mae: 6.3609\n",
            "Epoch 83/100\n",
            "31/31 [==============================] - 2s 49ms/step - loss: 4.5258 - mae: 5.0064 - val_loss: 5.6953 - val_mae: 6.1808\n",
            "Epoch 84/100\n",
            "31/31 [==============================] - 1s 33ms/step - loss: 4.5208 - mae: 5.0000 - val_loss: 5.9229 - val_mae: 6.3989\n",
            "Epoch 85/100\n",
            "31/31 [==============================] - 1s 34ms/step - loss: 4.6467 - mae: 5.1236 - val_loss: 6.6082 - val_mae: 7.0887\n",
            "Epoch 86/100\n",
            "31/31 [==============================] - 1s 34ms/step - loss: 4.5312 - mae: 5.0085 - val_loss: 5.8498 - val_mae: 6.3305\n",
            "Epoch 87/100\n",
            "31/31 [==============================] - 1s 35ms/step - loss: 4.5503 - mae: 5.0291 - val_loss: 5.8007 - val_mae: 6.2802\n",
            "Epoch 88/100\n",
            "31/31 [==============================] - 1s 34ms/step - loss: 4.5118 - mae: 4.9885 - val_loss: 5.4143 - val_mae: 5.8945\n",
            "Epoch 89/100\n",
            "31/31 [==============================] - 1s 34ms/step - loss: 4.5413 - mae: 5.0182 - val_loss: 6.3400 - val_mae: 6.8217\n",
            "Epoch 90/100\n",
            "31/31 [==============================] - 1s 34ms/step - loss: 4.5033 - mae: 4.9837 - val_loss: 5.5601 - val_mae: 6.0446\n",
            "Epoch 91/100\n",
            "31/31 [==============================] - 1s 34ms/step - loss: 4.6115 - mae: 5.0838 - val_loss: 5.4273 - val_mae: 5.9051\n",
            "Epoch 92/100\n",
            "31/31 [==============================] - 1s 34ms/step - loss: 4.5097 - mae: 4.9817 - val_loss: 5.8958 - val_mae: 6.3712\n",
            "Epoch 93/100\n",
            "31/31 [==============================] - 1s 34ms/step - loss: 4.5382 - mae: 5.0203 - val_loss: 6.4397 - val_mae: 6.9214\n",
            "Epoch 94/100\n",
            "31/31 [==============================] - 1s 35ms/step - loss: 4.5520 - mae: 5.0290 - val_loss: 6.0724 - val_mae: 6.5512\n",
            "Epoch 95/100\n",
            "31/31 [==============================] - 1s 34ms/step - loss: 4.4884 - mae: 4.9639 - val_loss: 6.0187 - val_mae: 6.4965\n",
            "Epoch 96/100\n",
            "31/31 [==============================] - 1s 34ms/step - loss: 4.5563 - mae: 5.0342 - val_loss: 5.3776 - val_mae: 5.8542\n",
            "Epoch 97/100\n",
            "31/31 [==============================] - 1s 35ms/step - loss: 4.5777 - mae: 5.0546 - val_loss: 5.4941 - val_mae: 5.9759\n",
            "Epoch 98/100\n",
            "31/31 [==============================] - 1s 34ms/step - loss: 4.5406 - mae: 5.0215 - val_loss: 5.8723 - val_mae: 6.3486\n",
            "Epoch 99/100\n",
            "31/31 [==============================] - 1s 40ms/step - loss: 4.4830 - mae: 4.9620 - val_loss: 5.8284 - val_mae: 6.3041\n",
            "Epoch 100/100\n",
            "31/31 [==============================] - 1s 34ms/step - loss: 4.5187 - mae: 4.9931 - val_loss: 5.4446 - val_mae: 5.9270\n"
          ]
        }
      ],
      "source": [
        "# Reset states generated by Keras\n",
        "tf.keras.backend.clear_session()\n",
        "\n",
        "# Build the model\n",
        "model = tf.keras.models.Sequential([\n",
        "  tf.keras.layers.Lambda(lambda x: tf.expand_dims(x, axis=-1),\n",
        "                      input_shape=[None]),\n",
        "   tf.keras.layers.Bidirectional(tf.keras.layers.LSTM(32, return_sequences=True)),\n",
        "  tf.keras.layers.Bidirectional(tf.keras.layers.LSTM(32)),\n",
        "  tf.keras.layers.Dense(1),\n",
        "  tf.keras.layers.Lambda(lambda x: x * 100.0)\n",
        "])\n",
        "\n",
        "# Set the learning rate\n",
        "learning_rate = 2e-6\n",
        "\n",
        "# Set the optimizer \n",
        "optimizer = tf.keras.optimizers.SGD(learning_rate=learning_rate, momentum=0.9)\n",
        "\n",
        "# Set the training parameters\n",
        "model.compile(loss=tf.keras.losses.Huber(),\n",
        "              optimizer=optimizer,\n",
        "              metrics=[\"mae\"])\n",
        "\n",
        "# Train the model\n",
        "history = model.fit(dataset,epochs=100, validation_data=val_set)"
      ]
    }
  ],
  "metadata": {
    "colab": {
      "collapsed_sections": [],
      "provenance": []
    },
    "kernelspec": {
      "display_name": "Python 3",
      "language": "python",
      "name": "python3"
    },
    "language_info": {
      "codemirror_mode": {
        "name": "ipython",
        "version": 3
      },
      "file_extension": ".py",
      "mimetype": "text/x-python",
      "name": "python",
      "nbconvert_exporter": "python",
      "pygments_lexer": "ipython3",
      "version": "3.7.4"
    }
  },
  "nbformat": 4,
  "nbformat_minor": 0
}