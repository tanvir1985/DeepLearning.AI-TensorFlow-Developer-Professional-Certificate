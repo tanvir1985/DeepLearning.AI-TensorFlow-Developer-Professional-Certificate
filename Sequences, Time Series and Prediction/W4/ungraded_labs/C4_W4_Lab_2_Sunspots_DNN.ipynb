{
  "cells": [
    {
      "cell_type": "markdown",
      "metadata": {
        "id": "xjO8KBVVw2wR"
      },
      "source": [
        "<a href=\"https://colab.research.google.com/github/https-deeplearning-ai/tensorflow-1-public/blob/main/C4/W4/ungraded_labs/C4_W4_Lab_2_Sunspots_DNN.ipynb\" target=\"_parent\"><img src=\"https://colab.research.google.com/assets/colab-badge.svg\" alt=\"Open In Colab\"/></a>"
      ]
    },
    {
      "cell_type": "markdown",
      "metadata": {
        "id": "JQsk1BKwZrBh"
      },
      "source": [
        "# Ungraded Lab: Predicting Sunspots with Neural Networks (DNN only)\n",
        "\n",
        "In the remaining labs for this week, you will move away from synthetic time series and start building models for real world data. In particular, you will train on the [Sunspots](https://www.kaggle.com/datasets/robervalt/sunspots) dataset: a monthly record of sunspot numbers from January 1749 to July 2018. You will first build a deep neural network here composed of dense layers. This will act as your baseline so you can compare it to the next lab where you will use a more complex architecture.\n",
        "\n",
        "Let's begin!"
      ]
    },
    {
      "cell_type": "markdown",
      "metadata": {
        "id": "2JHlrB12aeFD"
      },
      "source": [
        "## Imports\n",
        "\n",
        "You will use the same imports as before with the addition of the [csv](https://docs.python.org/3/library/csv.html) module. You will need this to parse the CSV file containing the dataset."
      ]
    },
    {
      "cell_type": "code",
      "execution_count": 1,
      "metadata": {
        "id": "56XEQOGknrAk"
      },
      "outputs": [],
      "source": [
        "import tensorflow as tf\n",
        "import numpy as np\n",
        "import matplotlib.pyplot as plt\n",
        "import csv"
      ]
    },
    {
      "cell_type": "markdown",
      "metadata": {
        "id": "D-mNttnaagBH"
      },
      "source": [
        "## Utilities\n",
        "\n",
        "You will only have the `plot_series()` dataset here because you no longer need the synthetic data generation functions."
      ]
    },
    {
      "cell_type": "code",
      "execution_count": 2,
      "metadata": {
        "id": "sLl52leVp5wU"
      },
      "outputs": [],
      "source": [
        "def plot_series(x, y, format=\"-\", start=0, end=None, \n",
        "                title=None, xlabel=None, ylabel=None, legend=None ):\n",
        "    \"\"\"\n",
        "    Visualizes time series data\n",
        "\n",
        "    Args:\n",
        "      x (array of int) - contains values for the x-axis\n",
        "      y (array of int or tuple of arrays) - contains the values for the y-axis\n",
        "      format (string) - line style when plotting the graph\n",
        "      label (string) - tag for the line\n",
        "      start (int) - first time step to plot\n",
        "      end (int) - last time step to plot\n",
        "      title (string) - title of the plot\n",
        "      xlabel (string) - label for the x-axis\n",
        "      ylabel (string) - label for the y-axis\n",
        "      legend (list of strings) - legend for the plot\n",
        "    \"\"\"\n",
        "\n",
        "    # Setup dimensions of the graph figure\n",
        "    plt.figure(figsize=(10, 6))\n",
        "    \n",
        "    # Check if there are more than two series to plot\n",
        "    if type(y) is tuple:\n",
        "\n",
        "      # Loop over the y elements\n",
        "      for y_curr in y:\n",
        "\n",
        "        # Plot the x and current y values\n",
        "        plt.plot(x[start:end], y_curr[start:end], format)\n",
        "\n",
        "    else:\n",
        "      # Plot the x and y values\n",
        "      plt.plot(x[start:end], y[start:end], format)\n",
        "\n",
        "    # Label the x-axis\n",
        "    plt.xlabel(xlabel)\n",
        "\n",
        "    # Label the y-axis\n",
        "    plt.ylabel(ylabel)\n",
        "\n",
        "    # Set the legend\n",
        "    if legend:\n",
        "      plt.legend(legend)\n",
        "\n",
        "    # Set the title\n",
        "    plt.title(title)\n",
        "\n",
        "    # Overlay a grid on the graph\n",
        "    plt.grid(True)\n",
        "\n",
        "    # Draw the graph on screen\n",
        "    plt.show()"
      ]
    },
    {
      "cell_type": "markdown",
      "metadata": {
        "id": "dFJv45pDauS8"
      },
      "source": [
        "## Download and Preview the Dataset\n",
        "\n",
        "You can now download the dataset and inspect the contents. The link in class is from Laurence's repo but we also hosted it in the link below."
      ]
    },
    {
      "cell_type": "code",
      "execution_count": 3,
      "metadata": {
        "id": "YwI-si5xyUkQ",
        "colab": {
          "base_uri": "https://localhost:8080/"
        },
        "outputId": "33e5a9e1-146e-4c0f-eaef-3620a5660c23"
      },
      "outputs": [
        {
          "output_type": "stream",
          "name": "stdout",
          "text": [
            "--2022-10-07 14:16:34--  https://storage.googleapis.com/tensorflow-1-public/course4/Sunspots.csv\n",
            "Resolving storage.googleapis.com (storage.googleapis.com)... 74.125.141.128, 173.194.210.128, 173.194.211.128, ...\n",
            "Connecting to storage.googleapis.com (storage.googleapis.com)|74.125.141.128|:443... connected.\n",
            "HTTP request sent, awaiting response... 200 OK\n",
            "Length: 70827 (69K) [text/csv]\n",
            "Saving to: ‘Sunspots.csv’\n",
            "\n",
            "\rSunspots.csv          0%[                    ]       0  --.-KB/s               \rSunspots.csv        100%[===================>]  69.17K  --.-KB/s    in 0.005s  \n",
            "\n",
            "2022-10-07 14:16:34 (12.6 MB/s) - ‘Sunspots.csv’ saved [70827/70827]\n",
            "\n"
          ]
        }
      ],
      "source": [
        "# Download the dataset\n",
        "!wget https://storage.googleapis.com/tensorflow-1-public/course4/Sunspots.csv"
      ]
    },
    {
      "cell_type": "markdown",
      "metadata": {
        "id": "c0fAiMytrwPJ"
      },
      "source": [
        "Running the cell below, you'll see that there are only three columns in the dataset:\n",
        "1. untitled column containing the month number\n",
        "2. Date which has the format `YYYY-MM-DD`\n",
        "3. Mean Total Sunspot Number"
      ]
    },
    {
      "cell_type": "code",
      "execution_count": 4,
      "metadata": {
        "id": "d5W2auXKrhVh",
        "colab": {
          "base_uri": "https://localhost:8080/"
        },
        "outputId": "45ade7e6-b94b-4a44-f5e2-da5a3cc6315c"
      },
      "outputs": [
        {
          "output_type": "stream",
          "name": "stdout",
          "text": [
            ",Date,Monthly Mean Total Sunspot Number\r\n",
            "0,1749-01-31,96.7\r\n",
            "1,1749-02-28,104.3\r\n",
            "2,1749-03-31,116.7\r\n",
            "3,1749-04-30,92.8\r\n",
            "4,1749-05-31,141.7\r\n",
            "5,1749-06-30,139.2\r\n",
            "6,1749-07-31,158.0\r\n",
            "7,1749-08-31,110.5\r\n",
            "8,1749-09-30,126.5\r\n"
          ]
        }
      ],
      "source": [
        "# Preview the dataset\n",
        "!head Sunspots.csv"
      ]
    },
    {
      "cell_type": "markdown",
      "metadata": {
        "id": "lbs-Y2SDsVaw"
      },
      "source": [
        "For this lab and the next, you will only need the month number and the mean total sunspot number. You will load those into memory and convert it to arrays that represents a time series."
      ]
    },
    {
      "cell_type": "code",
      "execution_count": 5,
      "metadata": {
        "id": "NcG9r1eClbTh",
        "colab": {
          "base_uri": "https://localhost:8080/",
          "height": 388
        },
        "outputId": "5e0becf7-ef13-4c3d-c79f-b9ff9b285b64"
      },
      "outputs": [
        {
          "output_type": "display_data",
          "data": {
            "text/plain": [
              "<Figure size 720x432 with 1 Axes>"
            ],
            "image/png": "[encoded data removed]"
          },
          "metadata": {
            "needs_background": "light"
          }
        }
      ],
      "source": [
        "# Initialize lists\n",
        "time_step = []\n",
        "sunspots = []\n",
        "\n",
        "# Open CSV file\n",
        "with open('./Sunspots.csv') as csvfile:\n",
        "  \n",
        "  # Initialize reader\n",
        "  reader = csv.reader(csvfile, delimiter=',')\n",
        "  \n",
        "  # Skip the first line\n",
        "  next(reader)\n",
        "  \n",
        "  # Append row and sunspot number to lists\n",
        "  for row in reader:\n",
        "    time_step.append(int(row[0]))\n",
        "    sunspots.append(float(row[2]))\n",
        "\n",
        "# Convert lists to numpy arrays\n",
        "time = np.array(time_step)\n",
        "series = np.array(sunspots)\n",
        "\n",
        "# Preview the data\n",
        "plot_series(time, series, xlabel='Month', ylabel='Monthly Mean Total Sunspot Number')"
      ]
    },
    {
      "cell_type": "markdown",
      "metadata": {
        "id": "EUQE9RRoazC5"
      },
      "source": [
        "## Split the Dataset\n",
        "\n",
        "Next, you will split the dataset into training and validation sets. There are 3235 points in the dataset and you will use the first 3000 for training."
      ]
    },
    {
      "cell_type": "code",
      "execution_count": 6,
      "metadata": {
        "id": "L92YRw_IpCFG"
      },
      "outputs": [],
      "source": [
        "# Define the split time\n",
        "split_time = 3000\n",
        "\n",
        "# Get the train set \n",
        "time_train = time[:split_time]\n",
        "x_train = series[:split_time]\n",
        "\n",
        "# Get the validation set\n",
        "time_valid = time[split_time:]\n",
        "x_valid = series[split_time:]"
      ]
    },
    {
      "cell_type": "markdown",
      "metadata": {
        "id": "RbuIOrb3a093"
      },
      "source": [
        "## Prepare Features and Labels\n",
        "\n",
        "You can then prepare the dataset windows as before. The window size is set to 30 points (equal to 2.5 years) but feel free to change later on if you want to experiment."
      ]
    },
    {
      "cell_type": "code",
      "execution_count": 7,
      "metadata": {
        "id": "lJwUUZscnG38"
      },
      "outputs": [],
      "source": [
        "def windowed_dataset(series, window_size, batch_size, shuffle_buffer):\n",
        "    \"\"\"Generates dataset windows\n",
        "\n",
        "    Args:\n",
        "      series (array of float) - contains the values of the time series\n",
        "      window_size (int) - the number of time steps to include in the feature\n",
        "      batch_size (int) - the batch size\n",
        "      shuffle_buffer(int) - buffer size to use for the shuffle method\n",
        "\n",
        "    Returns:\n",
        "      dataset (TF Dataset) - TF Dataset containing time windows\n",
        "    \"\"\"\n",
        "  \n",
        "    # Generate a TF Dataset from the series values\n",
        "    dataset = tf.data.Dataset.from_tensor_slices(series)\n",
        "    \n",
        "    # Window the data but only take those with the specified size\n",
        "    dataset = dataset.window(window_size + 1, shift=1, drop_remainder=True)\n",
        "    \n",
        "    # Flatten the windows by putting its elements in a single batch\n",
        "    dataset = dataset.flat_map(lambda window: window.batch(window_size + 1))\n",
        "\n",
        "    # Create tuples with features and labels \n",
        "    dataset = dataset.map(lambda window: (window[:-1], window[-1]))\n",
        "\n",
        "    # Shuffle the windows\n",
        "    dataset = dataset.shuffle(shuffle_buffer)\n",
        "    \n",
        "    # Create batches of windows\n",
        "    dataset = dataset.batch(batch_size).prefetch(1)\n",
        "    \n",
        "    return dataset"
      ]
    },
    {
      "cell_type": "code",
      "execution_count": 8,
      "metadata": {
        "id": "9g5zSxZwZQt_"
      },
      "outputs": [],
      "source": [
        "# Parameters\n",
        "window_size = 30\n",
        "batch_size = 32\n",
        "shuffle_buffer_size = 1000\n",
        "\n",
        "# Generate the dataset windows\n",
        "train_set = windowed_dataset(x_train, window_size, batch_size, shuffle_buffer_size)"
      ]
    },
    {
      "cell_type": "markdown",
      "metadata": {
        "id": "_Lhpi42ta5yP"
      },
      "source": [
        "## Build the Model\n",
        "\n",
        "The model will be 3-layer dense network as shown below."
      ]
    },
    {
      "cell_type": "code",
      "execution_count": 9,
      "metadata": {
        "id": "AclfYY3Mn6Ph",
        "colab": {
          "base_uri": "https://localhost:8080/"
        },
        "outputId": "f2a4d0a8-0344-45b0-ac35-97cfbdd349a0"
      },
      "outputs": [
        {
          "output_type": "stream",
          "name": "stdout",
          "text": [
            "Model: \"sequential\"\n",
            "_________________________________________________________________\n",
            " Layer (type)                Output Shape              Param #   \n",
            "=================================================================\n",
            " dense (Dense)               (None, 30)                930       \n",
            "                                                                 \n",
            " dense_1 (Dense)             (None, 10)                310       \n",
            "                                                                 \n",
            " dense_2 (Dense)             (None, 1)                 11        \n",
            "                                                                 \n",
            "=================================================================\n",
            "Total params: 1,251\n",
            "Trainable params: 1,251\n",
            "Non-trainable params: 0\n",
            "_________________________________________________________________\n"
          ]
        }
      ],
      "source": [
        "# Build the model\n",
        "model = tf.keras.models.Sequential([\n",
        "    tf.keras.layers.Dense(30, input_shape=[window_size], activation=\"relu\"), \n",
        "    tf.keras.layers.Dense(10, activation=\"relu\"),\n",
        "    tf.keras.layers.Dense(1)\n",
        "])\n",
        "\n",
        "# Print the model summary\n",
        "model.summary()"
      ]
    },
    {
      "cell_type": "markdown",
      "metadata": {
        "id": "uyT14hQOa97V"
      },
      "source": [
        "## Tune the Learning Rate\n",
        "\n",
        "You can pick a learning rate by running the same learning rate scheduler code from previous labs."
      ]
    },
    {
      "cell_type": "code",
      "execution_count": 10,
      "metadata": {
        "id": "GXiqsZQ1y4nD",
        "colab": {
          "base_uri": "https://localhost:8080/"
        },
        "outputId": "5290bb1a-364f-4b25-f032-9d62e510150c"
      },
      "outputs": [
        {
          "output_type": "stream",
          "name": "stdout",
          "text": [
            "Epoch 1/100\n",
            "93/93 [==============================] - 7s 16ms/step - loss: 40.2505 - lr: 1.0000e-08\n",
            "Epoch 2/100\n",
            "93/93 [==============================] - 0s 4ms/step - loss: 39.8130 - lr: 1.1220e-08\n",
            "Epoch 3/100\n",
            "93/93 [==============================] - 0s 4ms/step - loss: 39.3475 - lr: 1.2589e-08\n",
            "Epoch 4/100\n",
            "93/93 [==============================] - 0s 4ms/step - loss: 38.8759 - lr: 1.4125e-08\n",
            "Epoch 5/100\n",
            "93/93 [==============================] - 0s 4ms/step - loss: 38.3951 - lr: 1.5849e-08\n",
            "Epoch 6/100\n",
            "93/93 [==============================] - 0s 4ms/step - loss: 37.9056 - lr: 1.7783e-08\n",
            "Epoch 7/100\n",
            "93/93 [==============================] - 0s 4ms/step - loss: 37.4252 - lr: 1.9953e-08\n",
            "Epoch 8/100\n",
            "93/93 [==============================] - 0s 4ms/step - loss: 36.9677 - lr: 2.2387e-08\n",
            "Epoch 9/100\n",
            "93/93 [==============================] - 0s 4ms/step - loss: 36.5131 - lr: 2.5119e-08\n",
            "Epoch 10/100\n",
            "93/93 [==============================] - 0s 4ms/step - loss: 36.0723 - lr: 2.8184e-08\n",
            "Epoch 11/100\n",
            "93/93 [==============================] - 0s 4ms/step - loss: 35.6485 - lr: 3.1623e-08\n",
            "Epoch 12/100\n",
            "93/93 [==============================] - 0s 4ms/step - loss: 35.2405 - lr: 3.5481e-08\n",
            "Epoch 13/100\n",
            "93/93 [==============================] - 0s 4ms/step - loss: 34.8454 - lr: 3.9811e-08\n",
            "Epoch 14/100\n",
            "93/93 [==============================] - 0s 4ms/step - loss: 34.4626 - lr: 4.4668e-08\n",
            "Epoch 15/100\n",
            "93/93 [==============================] - 0s 4ms/step - loss: 34.0863 - lr: 5.0119e-08\n",
            "Epoch 16/100\n",
            "93/93 [==============================] - 0s 4ms/step - loss: 33.7209 - lr: 5.6234e-08\n",
            "Epoch 17/100\n",
            "93/93 [==============================] - 0s 4ms/step - loss: 33.3476 - lr: 6.3096e-08\n",
            "Epoch 18/100\n",
            "93/93 [==============================] - 1s 4ms/step - loss: 32.9593 - lr: 7.0795e-08\n",
            "Epoch 19/100\n",
            "93/93 [==============================] - 0s 4ms/step - loss: 32.5493 - lr: 7.9433e-08\n",
            "Epoch 20/100\n",
            "93/93 [==============================] - 0s 4ms/step - loss: 32.1313 - lr: 8.9125e-08\n",
            "Epoch 21/100\n",
            "93/93 [==============================] - 0s 4ms/step - loss: 31.6927 - lr: 1.0000e-07\n",
            "Epoch 22/100\n",
            "93/93 [==============================] - 0s 4ms/step - loss: 31.2446 - lr: 1.1220e-07\n",
            "Epoch 23/100\n",
            "93/93 [==============================] - 0s 4ms/step - loss: 30.7667 - lr: 1.2589e-07\n",
            "Epoch 24/100\n",
            "93/93 [==============================] - 0s 4ms/step - loss: 30.2641 - lr: 1.4125e-07\n",
            "Epoch 25/100\n",
            "93/93 [==============================] - 0s 4ms/step - loss: 29.7525 - lr: 1.5849e-07\n",
            "Epoch 26/100\n",
            "93/93 [==============================] - 0s 4ms/step - loss: 29.2264 - lr: 1.7783e-07\n",
            "Epoch 27/100\n",
            "93/93 [==============================] - 0s 4ms/step - loss: 28.6962 - lr: 1.9953e-07\n",
            "Epoch 28/100\n",
            "93/93 [==============================] - 0s 4ms/step - loss: 28.1584 - lr: 2.2387e-07\n",
            "Epoch 29/100\n",
            "93/93 [==============================] - 0s 4ms/step - loss: 27.6437 - lr: 2.5119e-07\n",
            "Epoch 30/100\n",
            "93/93 [==============================] - 1s 4ms/step - loss: 27.1575 - lr: 2.8184e-07\n",
            "Epoch 31/100\n",
            "93/93 [==============================] - 0s 4ms/step - loss: 26.6971 - lr: 3.1623e-07\n",
            "Epoch 32/100\n",
            "93/93 [==============================] - 0s 4ms/step - loss: 26.2689 - lr: 3.5481e-07\n",
            "Epoch 33/100\n",
            "93/93 [==============================] - 0s 4ms/step - loss: 25.8722 - lr: 3.9811e-07\n",
            "Epoch 34/100\n",
            "93/93 [==============================] - 0s 4ms/step - loss: 25.4931 - lr: 4.4668e-07\n",
            "Epoch 35/100\n",
            "93/93 [==============================] - 0s 4ms/step - loss: 25.1327 - lr: 5.0119e-07\n",
            "Epoch 36/100\n",
            "93/93 [==============================] - 1s 4ms/step - loss: 24.7986 - lr: 5.6234e-07\n",
            "Epoch 37/100\n",
            "93/93 [==============================] - 0s 4ms/step - loss: 24.4967 - lr: 6.3096e-07\n",
            "Epoch 38/100\n",
            "93/93 [==============================] - 0s 4ms/step - loss: 24.2142 - lr: 7.0795e-07\n",
            "Epoch 39/100\n",
            "93/93 [==============================] - 0s 4ms/step - loss: 23.9465 - lr: 7.9433e-07\n",
            "Epoch 40/100\n",
            "93/93 [==============================] - 0s 4ms/step - loss: 23.6856 - lr: 8.9125e-07\n",
            "Epoch 41/100\n",
            "93/93 [==============================] - 0s 4ms/step - loss: 23.4291 - lr: 1.0000e-06\n",
            "Epoch 42/100\n",
            "93/93 [==============================] - 0s 4ms/step - loss: 23.1412 - lr: 1.1220e-06\n",
            "Epoch 43/100\n",
            "93/93 [==============================] - 0s 4ms/step - loss: 22.8496 - lr: 1.2589e-06\n",
            "Epoch 44/100\n",
            "93/93 [==============================] - 0s 4ms/step - loss: 22.5074 - lr: 1.4125e-06\n",
            "Epoch 45/100\n",
            "93/93 [==============================] - 0s 4ms/step - loss: 22.2437 - lr: 1.5849e-06\n",
            "Epoch 46/100\n",
            "93/93 [==============================] - 0s 4ms/step - loss: 21.9043 - lr: 1.7783e-06\n",
            "Epoch 47/100\n",
            "93/93 [==============================] - 0s 4ms/step - loss: 21.5696 - lr: 1.9953e-06\n",
            "Epoch 48/100\n",
            "93/93 [==============================] - 0s 4ms/step - loss: 21.2885 - lr: 2.2387e-06\n",
            "Epoch 49/100\n",
            "93/93 [==============================] - 0s 4ms/step - loss: 20.9504 - lr: 2.5119e-06\n",
            "Epoch 50/100\n",
            "93/93 [==============================] - 0s 4ms/step - loss: 20.6602 - lr: 2.8184e-06\n",
            "Epoch 51/100\n",
            "93/93 [==============================] - 0s 4ms/step - loss: 20.3677 - lr: 3.1623e-06\n",
            "Epoch 52/100\n",
            "93/93 [==============================] - 0s 4ms/step - loss: 20.1902 - lr: 3.5481e-06\n",
            "Epoch 53/100\n",
            "93/93 [==============================] - 0s 4ms/step - loss: 19.8707 - lr: 3.9811e-06\n",
            "Epoch 54/100\n",
            "93/93 [==============================] - 0s 4ms/step - loss: 19.6344 - lr: 4.4668e-06\n",
            "Epoch 55/100\n",
            "93/93 [==============================] - 0s 4ms/step - loss: 19.3763 - lr: 5.0119e-06\n",
            "Epoch 56/100\n",
            "93/93 [==============================] - 0s 4ms/step - loss: 19.2637 - lr: 5.6234e-06\n",
            "Epoch 57/100\n",
            "93/93 [==============================] - 0s 4ms/step - loss: 19.1358 - lr: 6.3096e-06\n",
            "Epoch 58/100\n",
            "93/93 [==============================] - 0s 4ms/step - loss: 18.7768 - lr: 7.0795e-06\n",
            "Epoch 59/100\n",
            "93/93 [==============================] - 0s 4ms/step - loss: 18.7348 - lr: 7.9433e-06\n",
            "Epoch 60/100\n",
            "93/93 [==============================] - 0s 4ms/step - loss: 18.7875 - lr: 8.9125e-06\n",
            "Epoch 61/100\n",
            "93/93 [==============================] - 0s 4ms/step - loss: 18.6796 - lr: 1.0000e-05\n",
            "Epoch 62/100\n",
            "93/93 [==============================] - 0s 4ms/step - loss: 18.3336 - lr: 1.1220e-05\n",
            "Epoch 63/100\n",
            "93/93 [==============================] - 0s 4ms/step - loss: 18.4724 - lr: 1.2589e-05\n",
            "Epoch 64/100\n",
            "93/93 [==============================] - 1s 4ms/step - loss: 18.2579 - lr: 1.4125e-05\n",
            "Epoch 65/100\n",
            "93/93 [==============================] - 0s 4ms/step - loss: 18.1305 - lr: 1.5849e-05\n",
            "Epoch 66/100\n",
            "93/93 [==============================] - 1s 4ms/step - loss: 18.3056 - lr: 1.7783e-05\n",
            "Epoch 67/100\n",
            "93/93 [==============================] - 0s 4ms/step - loss: 18.0168 - lr: 1.9953e-05\n",
            "Epoch 68/100\n",
            "93/93 [==============================] - 0s 4ms/step - loss: 18.1576 - lr: 2.2387e-05\n",
            "Epoch 69/100\n",
            "93/93 [==============================] - 0s 4ms/step - loss: 17.7998 - lr: 2.5119e-05\n",
            "Epoch 70/100\n",
            "93/93 [==============================] - 0s 4ms/step - loss: 17.8311 - lr: 2.8184e-05\n",
            "Epoch 71/100\n",
            "93/93 [==============================] - 0s 4ms/step - loss: 18.2193 - lr: 3.1623e-05\n",
            "Epoch 72/100\n",
            "93/93 [==============================] - 0s 4ms/step - loss: 17.5842 - lr: 3.5481e-05\n",
            "Epoch 73/100\n",
            "93/93 [==============================] - 0s 4ms/step - loss: 18.6383 - lr: 3.9811e-05\n",
            "Epoch 74/100\n",
            "93/93 [==============================] - 0s 4ms/step - loss: 18.7755 - lr: 4.4668e-05\n",
            "Epoch 75/100\n",
            "93/93 [==============================] - 0s 4ms/step - loss: 18.0940 - lr: 5.0119e-05\n",
            "Epoch 76/100\n",
            "93/93 [==============================] - 0s 4ms/step - loss: 17.6550 - lr: 5.6234e-05\n",
            "Epoch 77/100\n",
            "93/93 [==============================] - 0s 4ms/step - loss: 18.0106 - lr: 6.3096e-05\n",
            "Epoch 78/100\n",
            "93/93 [==============================] - 0s 4ms/step - loss: 18.1435 - lr: 7.0795e-05\n",
            "Epoch 79/100\n",
            "93/93 [==============================] - 0s 4ms/step - loss: 18.2290 - lr: 7.9433e-05\n",
            "Epoch 80/100\n",
            "93/93 [==============================] - 0s 4ms/step - loss: 18.2303 - lr: 8.9125e-05\n",
            "Epoch 81/100\n",
            "93/93 [==============================] - 0s 4ms/step - loss: 17.8801 - lr: 1.0000e-04\n",
            "Epoch 82/100\n",
            "93/93 [==============================] - 0s 4ms/step - loss: 18.1797 - lr: 1.1220e-04\n",
            "Epoch 83/100\n",
            "93/93 [==============================] - 0s 4ms/step - loss: 18.1192 - lr: 1.2589e-04\n",
            "Epoch 84/100\n",
            "93/93 [==============================] - 0s 4ms/step - loss: 19.0552 - lr: 1.4125e-04\n",
            "Epoch 85/100\n",
            "93/93 [==============================] - 1s 4ms/step - loss: 19.6703 - lr: 1.5849e-04\n",
            "Epoch 86/100\n",
            "93/93 [==============================] - 1s 4ms/step - loss: 18.3723 - lr: 1.7783e-04\n",
            "Epoch 87/100\n",
            "93/93 [==============================] - 0s 4ms/step - loss: 18.5570 - lr: 1.9953e-04\n",
            "Epoch 88/100\n",
            "93/93 [==============================] - 0s 4ms/step - loss: 20.4587 - lr: 2.2387e-04\n",
            "Epoch 89/100\n",
            "93/93 [==============================] - 0s 4ms/step - loss: 18.4284 - lr: 2.5119e-04\n",
            "Epoch 90/100\n",
            "93/93 [==============================] - 0s 4ms/step - loss: 20.8934 - lr: 2.8184e-04\n",
            "Epoch 91/100\n",
            "93/93 [==============================] - 0s 4ms/step - loss: 18.3026 - lr: 3.1623e-04\n",
            "Epoch 92/100\n",
            "93/93 [==============================] - 0s 4ms/step - loss: 21.4572 - lr: 3.5481e-04\n",
            "Epoch 93/100\n",
            "93/93 [==============================] - 0s 4ms/step - loss: 22.1652 - lr: 3.9811e-04\n",
            "Epoch 94/100\n",
            "93/93 [==============================] - 0s 4ms/step - loss: 20.0512 - lr: 4.4668e-04\n",
            "Epoch 95/100\n",
            "93/93 [==============================] - 0s 4ms/step - loss: 19.3488 - lr: 5.0119e-04\n",
            "Epoch 96/100\n",
            "93/93 [==============================] - 0s 4ms/step - loss: 22.1938 - lr: 5.6234e-04\n",
            "Epoch 97/100\n",
            "93/93 [==============================] - 0s 4ms/step - loss: 21.9629 - lr: 6.3096e-04\n",
            "Epoch 98/100\n",
            "93/93 [==============================] - 0s 4ms/step - loss: 27.8422 - lr: 7.0795e-04\n",
            "Epoch 99/100\n",
            "93/93 [==============================] - 1s 7ms/step - loss: 31.6693 - lr: 7.9433e-04\n",
            "Epoch 100/100\n",
            "93/93 [==============================] - 1s 4ms/step - loss: 27.0865 - lr: 8.9125e-04\n"
          ]
        }
      ],
      "source": [
        "# Set the learning rate scheduler\n",
        "lr_schedule = tf.keras.callbacks.LearningRateScheduler(\n",
        "    lambda epoch: 1e-8 * 10**(epoch / 20))\n",
        "\n",
        "# Initialize the optimizer\n",
        "optimizer = tf.keras.optimizers.SGD(momentum=0.9)\n",
        "\n",
        "# Set the training parameters\n",
        "model.compile(loss=tf.keras.losses.Huber(), optimizer=optimizer)\n",
        "\n",
        "# Train the model\n",
        "history = model.fit(train_set, epochs=100, callbacks=[lr_schedule])"
      ]
    },
    {
      "cell_type": "code",
      "execution_count": 11,
      "metadata": {
        "id": "xJFAB1NTzGJV",
        "colab": {
          "base_uri": "https://localhost:8080/",
          "height": 405
        },
        "outputId": "b437fb53-5e37-40eb-c123-c5b4aa497a46"
      },
      "outputs": [
        {
          "output_type": "execute_result",
          "data": {
            "text/plain": [
              "(1e-08, 0.001, 0.0, 100.0)"
            ]
          },
          "metadata": {},
          "execution_count": 11
        },
        {
          "output_type": "display_data",
          "data": {
            "text/plain": [
              "<Figure size 720x432 with 1 Axes>"
            ],
            "image/png": "[encoded data removed]"
          },
          "metadata": {
            "needs_background": "light"
          }
        }
      ],
      "source": [
        "# Define the learning rate array\n",
        "lrs = 1e-8 * (10 ** (np.arange(100) / 20))\n",
        "\n",
        "# Set the figure size\n",
        "plt.figure(figsize=(10, 6))\n",
        "\n",
        "# Set the grid\n",
        "plt.grid(True)\n",
        "\n",
        "# Plot the loss in log scale\n",
        "plt.semilogx(lrs, history.history[\"loss\"])\n",
        "\n",
        "# Increase the tickmarks size\n",
        "plt.tick_params('both', length=10, width=1, which='both')\n",
        "\n",
        "# Set the plot boundaries\n",
        "plt.axis([1e-8, 1e-3, 0, 100])"
      ]
    },
    {
      "cell_type": "markdown",
      "metadata": {
        "id": "oY4mnUpNbFdc"
      },
      "source": [
        "## Train the Model\n",
        "\n",
        "Once you've picked a learning rate, you can rebuild the model and start training."
      ]
    },
    {
      "cell_type": "code",
      "execution_count": 12,
      "metadata": {
        "id": "Ngna3zR4znJd"
      },
      "outputs": [],
      "source": [
        "# Reset states generated by Keras\n",
        "tf.keras.backend.clear_session()\n",
        "\n",
        "# Build the Model\n",
        "model = tf.keras.models.Sequential([\n",
        "    tf.keras.layers.Dense(30, input_shape=[window_size], activation=\"relu\"), \n",
        "    tf.keras.layers.Dense(10, activation=\"relu\"),\n",
        "    tf.keras.layers.Dense(1)\n",
        "])"
      ]
    },
    {
      "cell_type": "code",
      "execution_count": 13,
      "metadata": {
        "id": "7FKXvEYxzuoc",
        "colab": {
          "base_uri": "https://localhost:8080/"
        },
        "outputId": "c2d0c7fc-6d97-4921-e7b1-aaefbe0260a3"
      },
      "outputs": [
        {
          "output_type": "stream",
          "name": "stdout",
          "text": [
            "Epoch 1/100\n",
            "93/93 [==============================] - 1s 4ms/step - loss: 39.3820 - mae: 39.8771\n",
            "Epoch 2/100\n",
            "93/93 [==============================] - 1s 5ms/step - loss: 22.7694 - mae: 23.2629\n",
            "Epoch 3/100\n",
            "93/93 [==============================] - 1s 4ms/step - loss: 20.9040 - mae: 21.3953\n",
            "Epoch 4/100\n",
            "93/93 [==============================] - 0s 4ms/step - loss: 19.6384 - mae: 20.1290\n",
            "Epoch 5/100\n",
            "93/93 [==============================] - 0s 4ms/step - loss: 18.9687 - mae: 19.4615\n",
            "Epoch 6/100\n",
            "93/93 [==============================] - 0s 4ms/step - loss: 18.8617 - mae: 19.3519\n",
            "Epoch 7/100\n",
            "93/93 [==============================] - 0s 4ms/step - loss: 18.2773 - mae: 18.7685\n",
            "Epoch 8/100\n",
            "93/93 [==============================] - 1s 4ms/step - loss: 18.1327 - mae: 18.6250\n",
            "Epoch 9/100\n",
            "93/93 [==============================] - 0s 4ms/step - loss: 18.0146 - mae: 18.5061\n",
            "Epoch 10/100\n",
            "93/93 [==============================] - 0s 4ms/step - loss: 18.0269 - mae: 18.5183\n",
            "Epoch 11/100\n",
            "93/93 [==============================] - 1s 5ms/step - loss: 17.8685 - mae: 18.3602\n",
            "Epoch 12/100\n",
            "93/93 [==============================] - 0s 4ms/step - loss: 17.6850 - mae: 18.1747\n",
            "Epoch 13/100\n",
            "93/93 [==============================] - 0s 4ms/step - loss: 17.7911 - mae: 18.2818\n",
            "Epoch 14/100\n",
            "93/93 [==============================] - 1s 4ms/step - loss: 17.5611 - mae: 18.0511\n",
            "Epoch 15/100\n",
            "93/93 [==============================] - 0s 4ms/step - loss: 17.5698 - mae: 18.0596\n",
            "Epoch 16/100\n",
            "93/93 [==============================] - 1s 4ms/step - loss: 17.5041 - mae: 17.9959\n",
            "Epoch 17/100\n",
            "93/93 [==============================] - 0s 4ms/step - loss: 17.5030 - mae: 17.9921\n",
            "Epoch 18/100\n",
            "93/93 [==============================] - 1s 4ms/step - loss: 17.3785 - mae: 17.8692\n",
            "Epoch 19/100\n",
            "93/93 [==============================] - 0s 4ms/step - loss: 17.3432 - mae: 17.8335\n",
            "Epoch 20/100\n",
            "93/93 [==============================] - 0s 4ms/step - loss: 17.3060 - mae: 17.7953\n",
            "Epoch 21/100\n",
            "93/93 [==============================] - 1s 4ms/step - loss: 17.2498 - mae: 17.7394\n",
            "Epoch 22/100\n",
            "93/93 [==============================] - 0s 4ms/step - loss: 17.2173 - mae: 17.7073\n",
            "Epoch 23/100\n",
            "93/93 [==============================] - 0s 4ms/step - loss: 17.1736 - mae: 17.6630\n",
            "Epoch 24/100\n",
            "93/93 [==============================] - 0s 4ms/step - loss: 17.2497 - mae: 17.7401\n",
            "Epoch 25/100\n",
            "93/93 [==============================] - 1s 4ms/step - loss: 17.1694 - mae: 17.6587\n",
            "Epoch 26/100\n",
            "93/93 [==============================] - 1s 4ms/step - loss: 17.1676 - mae: 17.6573\n",
            "Epoch 27/100\n",
            "93/93 [==============================] - 1s 5ms/step - loss: 17.0071 - mae: 17.4976\n",
            "Epoch 28/100\n",
            "93/93 [==============================] - 0s 4ms/step - loss: 17.1756 - mae: 17.6649\n",
            "Epoch 29/100\n",
            "93/93 [==============================] - 0s 4ms/step - loss: 17.2287 - mae: 17.7190\n",
            "Epoch 30/100\n",
            "93/93 [==============================] - 1s 4ms/step - loss: 17.3153 - mae: 17.8052\n",
            "Epoch 31/100\n",
            "93/93 [==============================] - 0s 4ms/step - loss: 17.0729 - mae: 17.5616\n",
            "Epoch 32/100\n",
            "93/93 [==============================] - 1s 4ms/step - loss: 17.1610 - mae: 17.6527\n",
            "Epoch 33/100\n",
            "93/93 [==============================] - 1s 5ms/step - loss: 17.0565 - mae: 17.5481\n",
            "Epoch 34/100\n",
            "93/93 [==============================] - 1s 4ms/step - loss: 16.9976 - mae: 17.4883\n",
            "Epoch 35/100\n",
            "93/93 [==============================] - 0s 4ms/step - loss: 17.0844 - mae: 17.5741\n",
            "Epoch 36/100\n",
            "93/93 [==============================] - 0s 4ms/step - loss: 17.1147 - mae: 17.6040\n",
            "Epoch 37/100\n",
            "93/93 [==============================] - 0s 4ms/step - loss: 17.0366 - mae: 17.5271\n",
            "Epoch 38/100\n",
            "93/93 [==============================] - 0s 4ms/step - loss: 17.0018 - mae: 17.4909\n",
            "Epoch 39/100\n",
            "93/93 [==============================] - 0s 4ms/step - loss: 17.0970 - mae: 17.5871\n",
            "Epoch 40/100\n",
            "93/93 [==============================] - 1s 4ms/step - loss: 17.1145 - mae: 17.6050\n",
            "Epoch 41/100\n",
            "93/93 [==============================] - 0s 4ms/step - loss: 17.1081 - mae: 17.5984\n",
            "Epoch 42/100\n",
            "93/93 [==============================] - 1s 4ms/step - loss: 16.9246 - mae: 17.4139\n",
            "Epoch 43/100\n",
            "93/93 [==============================] - 1s 4ms/step - loss: 16.9264 - mae: 17.4157\n",
            "Epoch 44/100\n",
            "93/93 [==============================] - 0s 4ms/step - loss: 17.0624 - mae: 17.5515\n",
            "Epoch 45/100\n",
            "93/93 [==============================] - 1s 4ms/step - loss: 16.8943 - mae: 17.3843\n",
            "Epoch 46/100\n",
            "93/93 [==============================] - 1s 4ms/step - loss: 16.7413 - mae: 17.2319\n",
            "Epoch 47/100\n",
            "93/93 [==============================] - 0s 4ms/step - loss: 17.0496 - mae: 17.5400\n",
            "Epoch 48/100\n",
            "93/93 [==============================] - 1s 4ms/step - loss: 16.8917 - mae: 17.3820\n",
            "Epoch 49/100\n",
            "93/93 [==============================] - 0s 4ms/step - loss: 16.9138 - mae: 17.4041\n",
            "Epoch 50/100\n",
            "93/93 [==============================] - 1s 4ms/step - loss: 16.8678 - mae: 17.3573\n",
            "Epoch 51/100\n",
            "93/93 [==============================] - 0s 4ms/step - loss: 17.0066 - mae: 17.4967\n",
            "Epoch 52/100\n",
            "93/93 [==============================] - 0s 4ms/step - loss: 17.1114 - mae: 17.6015\n",
            "Epoch 53/100\n",
            "93/93 [==============================] - 0s 4ms/step - loss: 16.9066 - mae: 17.3963\n",
            "Epoch 54/100\n",
            "93/93 [==============================] - 1s 4ms/step - loss: 17.0500 - mae: 17.5389\n",
            "Epoch 55/100\n",
            "93/93 [==============================] - 0s 4ms/step - loss: 16.9654 - mae: 17.4552\n",
            "Epoch 56/100\n",
            "93/93 [==============================] - 0s 4ms/step - loss: 16.7837 - mae: 17.2742\n",
            "Epoch 57/100\n",
            "93/93 [==============================] - 0s 4ms/step - loss: 16.7533 - mae: 17.2419\n",
            "Epoch 58/100\n",
            "93/93 [==============================] - 0s 4ms/step - loss: 16.9045 - mae: 17.3942\n",
            "Epoch 59/100\n",
            "93/93 [==============================] - 1s 4ms/step - loss: 16.9448 - mae: 17.4357\n",
            "Epoch 60/100\n",
            "93/93 [==============================] - 0s 4ms/step - loss: 16.9725 - mae: 17.4625\n",
            "Epoch 61/100\n",
            "93/93 [==============================] - 1s 4ms/step - loss: 16.7069 - mae: 17.1962\n",
            "Epoch 62/100\n",
            "93/93 [==============================] - 0s 4ms/step - loss: 16.7998 - mae: 17.2896\n",
            "Epoch 63/100\n",
            "93/93 [==============================] - 0s 4ms/step - loss: 16.8198 - mae: 17.3110\n",
            "Epoch 64/100\n",
            "93/93 [==============================] - 1s 4ms/step - loss: 16.8217 - mae: 17.3115\n",
            "Epoch 65/100\n",
            "93/93 [==============================] - 1s 4ms/step - loss: 16.6756 - mae: 17.1651\n",
            "Epoch 66/100\n",
            "93/93 [==============================] - 1s 5ms/step - loss: 16.7466 - mae: 17.2360\n",
            "Epoch 67/100\n",
            "93/93 [==============================] - 0s 4ms/step - loss: 16.7259 - mae: 17.2152\n",
            "Epoch 68/100\n",
            "93/93 [==============================] - 1s 5ms/step - loss: 16.8256 - mae: 17.3155\n",
            "Epoch 69/100\n",
            "93/93 [==============================] - 1s 5ms/step - loss: 17.1393 - mae: 17.6300\n",
            "Epoch 70/100\n",
            "93/93 [==============================] - 1s 4ms/step - loss: 16.7099 - mae: 17.1997\n",
            "Epoch 71/100\n",
            "93/93 [==============================] - 0s 4ms/step - loss: 16.7908 - mae: 17.2810\n",
            "Epoch 72/100\n",
            "93/93 [==============================] - 1s 4ms/step - loss: 16.7911 - mae: 17.2802\n",
            "Epoch 73/100\n",
            "93/93 [==============================] - 1s 4ms/step - loss: 17.2036 - mae: 17.6948\n",
            "Epoch 74/100\n",
            "93/93 [==============================] - 1s 4ms/step - loss: 16.7525 - mae: 17.2414\n",
            "Epoch 75/100\n",
            "93/93 [==============================] - 1s 5ms/step - loss: 16.7025 - mae: 17.1913\n",
            "Epoch 76/100\n",
            "93/93 [==============================] - 0s 4ms/step - loss: 16.7513 - mae: 17.2409\n",
            "Epoch 77/100\n",
            "93/93 [==============================] - 1s 4ms/step - loss: 16.8165 - mae: 17.3067\n",
            "Epoch 78/100\n",
            "93/93 [==============================] - 1s 4ms/step - loss: 16.7581 - mae: 17.2482\n",
            "Epoch 79/100\n",
            "93/93 [==============================] - 1s 4ms/step - loss: 16.6683 - mae: 17.1574\n",
            "Epoch 80/100\n",
            "93/93 [==============================] - 1s 4ms/step - loss: 16.9008 - mae: 17.3911\n",
            "Epoch 81/100\n",
            "93/93 [==============================] - 0s 4ms/step - loss: 16.8558 - mae: 17.3454\n",
            "Epoch 82/100\n",
            "93/93 [==============================] - 1s 5ms/step - loss: 16.8008 - mae: 17.2918\n",
            "Epoch 83/100\n",
            "93/93 [==============================] - 0s 4ms/step - loss: 16.9146 - mae: 17.4048\n",
            "Epoch 84/100\n",
            "93/93 [==============================] - 1s 4ms/step - loss: 16.7836 - mae: 17.2728\n",
            "Epoch 85/100\n",
            "93/93 [==============================] - 0s 4ms/step - loss: 16.9193 - mae: 17.4089\n",
            "Epoch 86/100\n",
            "93/93 [==============================] - 1s 4ms/step - loss: 16.8367 - mae: 17.3269\n",
            "Epoch 87/100\n",
            "93/93 [==============================] - 1s 4ms/step - loss: 16.7051 - mae: 17.1938\n",
            "Epoch 88/100\n",
            "93/93 [==============================] - 0s 4ms/step - loss: 16.7505 - mae: 17.2382\n",
            "Epoch 89/100\n",
            "93/93 [==============================] - 1s 4ms/step - loss: 16.7206 - mae: 17.2102\n",
            "Epoch 90/100\n",
            "93/93 [==============================] - 0s 4ms/step - loss: 16.8327 - mae: 17.3224\n",
            "Epoch 91/100\n",
            "93/93 [==============================] - 1s 4ms/step - loss: 16.7492 - mae: 17.2379\n",
            "Epoch 92/100\n",
            "93/93 [==============================] - 1s 4ms/step - loss: 16.8485 - mae: 17.3371\n",
            "Epoch 93/100\n",
            "93/93 [==============================] - 1s 4ms/step - loss: 16.6301 - mae: 17.1182\n",
            "Epoch 94/100\n",
            "93/93 [==============================] - 0s 4ms/step - loss: 16.6518 - mae: 17.1419\n",
            "Epoch 95/100\n",
            "93/93 [==============================] - 0s 4ms/step - loss: 16.6460 - mae: 17.1344\n",
            "Epoch 96/100\n",
            "93/93 [==============================] - 1s 4ms/step - loss: 16.5876 - mae: 17.0767\n",
            "Epoch 97/100\n",
            "93/93 [==============================] - 1s 4ms/step - loss: 16.6841 - mae: 17.1728\n",
            "Epoch 98/100\n",
            "93/93 [==============================] - 1s 5ms/step - loss: 16.6971 - mae: 17.1867\n",
            "Epoch 99/100\n",
            "93/93 [==============================] - 1s 4ms/step - loss: 16.8362 - mae: 17.3257\n",
            "Epoch 100/100\n",
            "93/93 [==============================] - 1s 4ms/step - loss: 16.6726 - mae: 17.1625\n"
          ]
        }
      ],
      "source": [
        "# Set the learning rate\n",
        "learning_rate = 2e-5\n",
        "\n",
        "# Set the optimizer \n",
        "optimizer = tf.keras.optimizers.SGD(learning_rate=learning_rate, momentum=0.9)\n",
        "\n",
        "# Set the training parameters\n",
        "model.compile(loss=tf.keras.losses.Huber(),\n",
        "              optimizer=optimizer,\n",
        "              metrics=[\"mae\"])\n",
        "\n",
        "# Train the model\n",
        "history = model.fit(train_set,epochs=100)"
      ]
    },
    {
      "cell_type": "markdown",
      "metadata": {
        "id": "b1iV2t8ibIka"
      },
      "source": [
        "## Model Prediction\n",
        "\n",
        "Now see if the model generates good results. If you used the default parameters of this notebook, you should see the predictions follow the shape of the ground truth with an MAE of around 15. "
      ]
    },
    {
      "cell_type": "code",
      "execution_count": 14,
      "metadata": {
        "id": "djn06Tri2B6_"
      },
      "outputs": [],
      "source": [
        "def model_forecast(model, series, window_size, batch_size):\n",
        "    \"\"\"Uses an input model to generate predictions on data windows\n",
        "\n",
        "    Args:\n",
        "      model (TF Keras Model) - model that accepts data windows\n",
        "      series (array of float) - contains the values of the time series\n",
        "      window_size (int) - the number of time steps to include in the window\n",
        "      batch_size (int) - the batch size\n",
        "\n",
        "    Returns:\n",
        "      forecast (numpy array) - array containing predictions\n",
        "    \"\"\"\n",
        "\n",
        "    # Generate a TF Dataset from the series values\n",
        "    dataset = tf.data.Dataset.from_tensor_slices(series)\n",
        "\n",
        "    # Window the data but only take those with the specified size\n",
        "    dataset = dataset.window(window_size, shift=1, drop_remainder=True)\n",
        "\n",
        "    # Flatten the windows by putting its elements in a single batch\n",
        "    dataset = dataset.flat_map(lambda w: w.batch(window_size))\n",
        "    \n",
        "    # Create batches of windows\n",
        "    dataset = dataset.batch(batch_size).prefetch(1)\n",
        "    \n",
        "    # Get predictions on the entire dataset\n",
        "    forecast = model.predict(dataset)\n",
        "    \n",
        "    return forecast"
      ]
    },
    {
      "cell_type": "code",
      "execution_count": 15,
      "metadata": {
        "id": "GaC6NNMRp0lb",
        "colab": {
          "base_uri": "https://localhost:8080/",
          "height": 374
        },
        "outputId": "81265e3b-639d-4522-d03c-0ba7afdd073e"
      },
      "outputs": [
        {
          "output_type": "display_data",
          "data": {
            "text/plain": [
              "<Figure size 720x432 with 1 Axes>"
            ],
            "image/png": "[encoded data removed]"
          },
          "metadata": {
            "needs_background": "light"
          }
        }
      ],
      "source": [
        "# Reduce the original series\n",
        "forecast_series = series[split_time-window_size:-1]\n",
        "\n",
        "# Use helper function to generate predictions\n",
        "forecast = model_forecast(model, forecast_series, window_size, batch_size)\n",
        "\n",
        "# Drop single dimensional axis\n",
        "results = forecast.squeeze()\n",
        "\n",
        "# Plot the results\n",
        "plot_series(time_valid, (x_valid, results))"
      ]
    },
    {
      "cell_type": "code",
      "execution_count": 16,
      "metadata": {
        "id": "13XrorC5wQoE",
        "colab": {
          "base_uri": "https://localhost:8080/"
        },
        "outputId": "120c0e4f-20f4-4055-8386-c185719917ac"
      },
      "outputs": [
        {
          "output_type": "stream",
          "name": "stdout",
          "text": [
            "14.786622\n"
          ]
        }
      ],
      "source": [
        "# Compute the MAE\n",
        "print(tf.keras.metrics.mean_absolute_error(x_valid, results).numpy())"
      ]
    },
    {
      "cell_type": "markdown",
      "metadata": {
        "id": "YqMGN9S5veN2"
      },
      "source": [
        "## Wrap Up\n",
        "\n",
        "In this lab, you built a relatively simple DNN to forecast sunspot numbers for a given month. We encourage you to tweak the parameters or train longer and see the best results you can get. In the next lab, you will build a more complex model and you evaluate if the added complexity translates to better or worse results."
      ]
    }
  ],
  "metadata": {
    "colab": {
      "collapsed_sections": [],
      "provenance": []
    },
    "kernelspec": {
      "display_name": "Python 3",
      "language": "python",
      "name": "python3"
    },
    "language_info": {
      "codemirror_mode": {
        "name": "ipython",
        "version": 3
      },
      "file_extension": ".py",
      "mimetype": "text/x-python",
      "name": "python",
      "nbconvert_exporter": "python",
      "pygments_lexer": "ipython3",
      "version": "3.7.4"
    },
    "accelerator": "GPU"
  },
  "nbformat": 4,
  "nbformat_minor": 0
}